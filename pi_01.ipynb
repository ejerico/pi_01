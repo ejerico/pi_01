{
 "cells": [
  {
   "attachments": {},
   "cell_type": "markdown",
   "metadata": {},
   "source": [
    "# Proyecto Individual 01"
   ]
  },
  {
   "attachments": {},
   "cell_type": "markdown",
   "metadata": {},
   "source": [
    "# Transformaciones"
   ]
  },
  {
   "cell_type": "code",
   "execution_count": 488,
   "metadata": {},
   "outputs": [],
   "source": [
    "import pandas as pd\n",
    "import numpy as np\n",
    "import datetime\n",
    "from datetime import datetime"
   ]
  },
  {
   "cell_type": "code",
   "execution_count": 367,
   "metadata": {},
   "outputs": [
    {
     "name": "stderr",
     "output_type": "stream",
     "text": [
      "/var/folders/5b/cj7qp6dx0rb7yfz06c2zb7ww0000gn/T/ipykernel_87951/8884446.py:2: DtypeWarning: Columns (10) have mixed types. Specify dtype option on import or set low_memory=False.\n",
      "  df = pd.read_csv('./movies_dataset.csv', delimiter=',', encoding='latin1', header=0)\n"
     ]
    },
    {
     "data": {
      "text/html": [
       "<div>\n",
       "<style scoped>\n",
       "    .dataframe tbody tr th:only-of-type {\n",
       "        vertical-align: middle;\n",
       "    }\n",
       "\n",
       "    .dataframe tbody tr th {\n",
       "        vertical-align: top;\n",
       "    }\n",
       "\n",
       "    .dataframe thead th {\n",
       "        text-align: right;\n",
       "    }\n",
       "</style>\n",
       "<table border=\"1\" class=\"dataframe\">\n",
       "  <thead>\n",
       "    <tr style=\"text-align: right;\">\n",
       "      <th></th>\n",
       "      <th>adult</th>\n",
       "      <th>belongs_to_collection</th>\n",
       "      <th>budget</th>\n",
       "      <th>genres</th>\n",
       "      <th>homepage</th>\n",
       "      <th>id</th>\n",
       "      <th>imdb_id</th>\n",
       "      <th>original_language</th>\n",
       "      <th>original_title</th>\n",
       "      <th>overview</th>\n",
       "      <th>...</th>\n",
       "      <th>release_date</th>\n",
       "      <th>revenue</th>\n",
       "      <th>runtime</th>\n",
       "      <th>spoken_languages</th>\n",
       "      <th>status</th>\n",
       "      <th>tagline</th>\n",
       "      <th>title</th>\n",
       "      <th>video</th>\n",
       "      <th>vote_average</th>\n",
       "      <th>vote_count</th>\n",
       "    </tr>\n",
       "  </thead>\n",
       "  <tbody>\n",
       "    <tr>\n",
       "      <th>0</th>\n",
       "      <td>False</td>\n",
       "      <td>{'id': 10194, 'name': 'Toy Story Collection', ...</td>\n",
       "      <td>30000000</td>\n",
       "      <td>[{'id': 16, 'name': 'Animation'}, {'id': 35, '...</td>\n",
       "      <td>http://toystory.disney.com/toy-story</td>\n",
       "      <td>862</td>\n",
       "      <td>tt0114709</td>\n",
       "      <td>en</td>\n",
       "      <td>Toy Story</td>\n",
       "      <td>Led by Woody, Andy's toys live happily in his ...</td>\n",
       "      <td>...</td>\n",
       "      <td>1995-10-30</td>\n",
       "      <td>373554033.0</td>\n",
       "      <td>81.0</td>\n",
       "      <td>[{'iso_639_1': 'en', 'name': 'English'}]</td>\n",
       "      <td>Released</td>\n",
       "      <td>NaN</td>\n",
       "      <td>Toy Story</td>\n",
       "      <td>False</td>\n",
       "      <td>7.7</td>\n",
       "      <td>5415.0</td>\n",
       "    </tr>\n",
       "    <tr>\n",
       "      <th>1</th>\n",
       "      <td>False</td>\n",
       "      <td>NaN</td>\n",
       "      <td>65000000</td>\n",
       "      <td>[{'id': 12, 'name': 'Adventure'}, {'id': 14, '...</td>\n",
       "      <td>NaN</td>\n",
       "      <td>8844</td>\n",
       "      <td>tt0113497</td>\n",
       "      <td>en</td>\n",
       "      <td>Jumanji</td>\n",
       "      <td>When siblings Judy and Peter discover an encha...</td>\n",
       "      <td>...</td>\n",
       "      <td>1995-12-15</td>\n",
       "      <td>262797249.0</td>\n",
       "      <td>104.0</td>\n",
       "      <td>[{'iso_639_1': 'en', 'name': 'English'}, {'iso...</td>\n",
       "      <td>Released</td>\n",
       "      <td>Roll the dice and unleash the excitement!</td>\n",
       "      <td>Jumanji</td>\n",
       "      <td>False</td>\n",
       "      <td>6.9</td>\n",
       "      <td>2413.0</td>\n",
       "    </tr>\n",
       "    <tr>\n",
       "      <th>2</th>\n",
       "      <td>False</td>\n",
       "      <td>{'id': 119050, 'name': 'Grumpy Old Men Collect...</td>\n",
       "      <td>0</td>\n",
       "      <td>[{'id': 10749, 'name': 'Romance'}, {'id': 35, ...</td>\n",
       "      <td>NaN</td>\n",
       "      <td>15602</td>\n",
       "      <td>tt0113228</td>\n",
       "      <td>en</td>\n",
       "      <td>Grumpier Old Men</td>\n",
       "      <td>A family wedding reignites the ancient feud be...</td>\n",
       "      <td>...</td>\n",
       "      <td>1995-12-22</td>\n",
       "      <td>0.0</td>\n",
       "      <td>101.0</td>\n",
       "      <td>[{'iso_639_1': 'en', 'name': 'English'}]</td>\n",
       "      <td>Released</td>\n",
       "      <td>Still Yelling. Still Fighting. Still Ready for...</td>\n",
       "      <td>Grumpier Old Men</td>\n",
       "      <td>False</td>\n",
       "      <td>6.5</td>\n",
       "      <td>92.0</td>\n",
       "    </tr>\n",
       "    <tr>\n",
       "      <th>3</th>\n",
       "      <td>False</td>\n",
       "      <td>NaN</td>\n",
       "      <td>16000000</td>\n",
       "      <td>[{'id': 35, 'name': 'Comedy'}, {'id': 18, 'nam...</td>\n",
       "      <td>NaN</td>\n",
       "      <td>31357</td>\n",
       "      <td>tt0114885</td>\n",
       "      <td>en</td>\n",
       "      <td>Waiting to Exhale</td>\n",
       "      <td>Cheated on, mistreated and stepped on, the wom...</td>\n",
       "      <td>...</td>\n",
       "      <td>1995-12-22</td>\n",
       "      <td>81452156.0</td>\n",
       "      <td>127.0</td>\n",
       "      <td>[{'iso_639_1': 'en', 'name': 'English'}]</td>\n",
       "      <td>Released</td>\n",
       "      <td>Friends are the people who let you be yourself...</td>\n",
       "      <td>Waiting to Exhale</td>\n",
       "      <td>False</td>\n",
       "      <td>6.1</td>\n",
       "      <td>34.0</td>\n",
       "    </tr>\n",
       "    <tr>\n",
       "      <th>4</th>\n",
       "      <td>False</td>\n",
       "      <td>{'id': 96871, 'name': 'Father of the Bride Col...</td>\n",
       "      <td>0</td>\n",
       "      <td>[{'id': 35, 'name': 'Comedy'}]</td>\n",
       "      <td>NaN</td>\n",
       "      <td>11862</td>\n",
       "      <td>tt0113041</td>\n",
       "      <td>en</td>\n",
       "      <td>Father of the Bride Part II</td>\n",
       "      <td>Just when George Banks has recovered from his ...</td>\n",
       "      <td>...</td>\n",
       "      <td>1995-02-10</td>\n",
       "      <td>76578911.0</td>\n",
       "      <td>106.0</td>\n",
       "      <td>[{'iso_639_1': 'en', 'name': 'English'}]</td>\n",
       "      <td>Released</td>\n",
       "      <td>Just When His World Is Back To Normal... He's ...</td>\n",
       "      <td>Father of the Bride Part II</td>\n",
       "      <td>False</td>\n",
       "      <td>5.7</td>\n",
       "      <td>173.0</td>\n",
       "    </tr>\n",
       "  </tbody>\n",
       "</table>\n",
       "<p>5 rows × 24 columns</p>\n",
       "</div>"
      ],
      "text/plain": [
       "   adult                              belongs_to_collection    budget  \\\n",
       "0  False  {'id': 10194, 'name': 'Toy Story Collection', ...  30000000   \n",
       "1  False                                                NaN  65000000   \n",
       "2  False  {'id': 119050, 'name': 'Grumpy Old Men Collect...         0   \n",
       "3  False                                                NaN  16000000   \n",
       "4  False  {'id': 96871, 'name': 'Father of the Bride Col...         0   \n",
       "\n",
       "                                              genres  \\\n",
       "0  [{'id': 16, 'name': 'Animation'}, {'id': 35, '...   \n",
       "1  [{'id': 12, 'name': 'Adventure'}, {'id': 14, '...   \n",
       "2  [{'id': 10749, 'name': 'Romance'}, {'id': 35, ...   \n",
       "3  [{'id': 35, 'name': 'Comedy'}, {'id': 18, 'nam...   \n",
       "4                     [{'id': 35, 'name': 'Comedy'}]   \n",
       "\n",
       "                               homepage     id    imdb_id original_language  \\\n",
       "0  http://toystory.disney.com/toy-story    862  tt0114709                en   \n",
       "1                                   NaN   8844  tt0113497                en   \n",
       "2                                   NaN  15602  tt0113228                en   \n",
       "3                                   NaN  31357  tt0114885                en   \n",
       "4                                   NaN  11862  tt0113041                en   \n",
       "\n",
       "                original_title  \\\n",
       "0                    Toy Story   \n",
       "1                      Jumanji   \n",
       "2             Grumpier Old Men   \n",
       "3            Waiting to Exhale   \n",
       "4  Father of the Bride Part II   \n",
       "\n",
       "                                            overview  ... release_date  \\\n",
       "0  Led by Woody, Andy's toys live happily in his ...  ...   1995-10-30   \n",
       "1  When siblings Judy and Peter discover an encha...  ...   1995-12-15   \n",
       "2  A family wedding reignites the ancient feud be...  ...   1995-12-22   \n",
       "3  Cheated on, mistreated and stepped on, the wom...  ...   1995-12-22   \n",
       "4  Just when George Banks has recovered from his ...  ...   1995-02-10   \n",
       "\n",
       "       revenue runtime                                   spoken_languages  \\\n",
       "0  373554033.0    81.0           [{'iso_639_1': 'en', 'name': 'English'}]   \n",
       "1  262797249.0   104.0  [{'iso_639_1': 'en', 'name': 'English'}, {'iso...   \n",
       "2          0.0   101.0           [{'iso_639_1': 'en', 'name': 'English'}]   \n",
       "3   81452156.0   127.0           [{'iso_639_1': 'en', 'name': 'English'}]   \n",
       "4   76578911.0   106.0           [{'iso_639_1': 'en', 'name': 'English'}]   \n",
       "\n",
       "     status                                            tagline  \\\n",
       "0  Released                                                NaN   \n",
       "1  Released          Roll the dice and unleash the excitement!   \n",
       "2  Released  Still Yelling. Still Fighting. Still Ready for...   \n",
       "3  Released  Friends are the people who let you be yourself...   \n",
       "4  Released  Just When His World Is Back To Normal... He's ...   \n",
       "\n",
       "                         title  video vote_average vote_count  \n",
       "0                    Toy Story  False          7.7     5415.0  \n",
       "1                      Jumanji  False          6.9     2413.0  \n",
       "2             Grumpier Old Men  False          6.5       92.0  \n",
       "3            Waiting to Exhale  False          6.1       34.0  \n",
       "4  Father of the Bride Part II  False          5.7      173.0  \n",
       "\n",
       "[5 rows x 24 columns]"
      ]
     },
     "execution_count": 367,
     "metadata": {},
     "output_type": "execute_result"
    }
   ],
   "source": [
    "# Load CSV files\n",
    "df = pd.read_csv('./movies_dataset.csv', delimiter=',', encoding='latin1', header=0)\n",
    "df.head(5)"
   ]
  },
  {
   "cell_type": "code",
   "execution_count": 368,
   "metadata": {},
   "outputs": [
    {
     "name": "stdout",
     "output_type": "stream",
     "text": [
      "False\n",
      "{'id': 10194, 'name': 'Toy Story Collection', 'poster_path': '/7G9915LfUQ2lVfwMEEhDsn3kT4B.jpg', 'backdrop_path': '/9FBwqcd9IRruEDUrTdcaafOMKUq.jpg'}\n",
      "30000000\n",
      "[{'id': 16, 'name': 'Animation'}, {'id': 35, 'name': 'Comedy'}, {'id': 10751, 'name': 'Family'}]\n",
      "http://toystory.disney.com/toy-story\n",
      "862\n",
      "tt0114709\n",
      "en\n",
      "Toy Story\n",
      "Led by Woody, Andy's toys live happily in his room until Andy's birthday brings Buzz Lightyear onto the scene. Afraid of losing his place in Andy's heart, Woody plots against Buzz. But when circumstances separate Buzz and Woody from their owner, the duo eventually learns to put aside their differences.\n",
      "21.946943\n",
      "/rhIRbceoE9lR4veEXuwCC2wARtG.jpg\n",
      "[{'name': 'Pixar Animation Studios', 'id': 3}]\n",
      "[{'iso_3166_1': 'US', 'name': 'United States of America'}]\n",
      "1995-10-30\n",
      "373554033.0\n",
      "81.0\n",
      "[{'iso_639_1': 'en', 'name': 'English'}]\n",
      "Released\n",
      "nan\n",
      "Toy Story\n",
      "False\n",
      "7.7\n",
      "5415.0\n"
     ]
    }
   ],
   "source": [
    "for i in df.iloc[0]:\n",
    "    print(i)"
   ]
  },
  {
   "attachments": {},
   "cell_type": "markdown",
   "metadata": {},
   "source": [
    "<span style=\"color:orange\">Algunos campos, como belongs_to_collection, production_companies y otros (ver diccionario de datos) están anidados, esto es o bien tienen un diccionario o una lista como valores en cada fila, ¡deberán desanidarlos para poder y unirlos al dataset de nuevo hacer alguna de las consultas de la API! O bien buscar la manera de acceder a esos datos sin desanidarlos.</span>"
   ]
  },
  {
   "attachments": {},
   "cell_type": "markdown",
   "metadata": {},
   "source": [
    "### Unnest column \"belongs_to_collection\""
   ]
  },
  {
   "cell_type": "code",
   "execution_count": 369,
   "metadata": {},
   "outputs": [],
   "source": [
    "import ast\n",
    "\n",
    "# Define a function to convert a string to a dictionary\n",
    "def str_to_dict(string):\n",
    "    try:\n",
    "        return ast.literal_eval(string)\n",
    "    except (ValueError, SyntaxError):\n",
    "        return np.nan\n",
    "\n",
    "# Apply the function to each row of the 'belongs_to_collection' column\n",
    "df['belongs_to_collection'] = df['belongs_to_collection'].apply(str_to_dict)\n"
   ]
  },
  {
   "cell_type": "code",
   "execution_count": 370,
   "metadata": {},
   "outputs": [
    {
     "data": {
      "text/plain": [
       "dict"
      ]
     },
     "execution_count": 370,
     "metadata": {},
     "output_type": "execute_result"
    }
   ],
   "source": [
    "type(df['belongs_to_collection'][0])"
   ]
  },
  {
   "cell_type": "code",
   "execution_count": 371,
   "metadata": {},
   "outputs": [
    {
     "data": {
      "text/html": [
       "<div>\n",
       "<style scoped>\n",
       "    .dataframe tbody tr th:only-of-type {\n",
       "        vertical-align: middle;\n",
       "    }\n",
       "\n",
       "    .dataframe tbody tr th {\n",
       "        vertical-align: top;\n",
       "    }\n",
       "\n",
       "    .dataframe thead th {\n",
       "        text-align: right;\n",
       "    }\n",
       "</style>\n",
       "<table border=\"1\" class=\"dataframe\">\n",
       "  <thead>\n",
       "    <tr style=\"text-align: right;\">\n",
       "      <th></th>\n",
       "      <th>adult</th>\n",
       "      <th>budget</th>\n",
       "      <th>genres</th>\n",
       "      <th>homepage</th>\n",
       "      <th>id</th>\n",
       "      <th>imdb_id</th>\n",
       "      <th>original_language</th>\n",
       "      <th>original_title</th>\n",
       "      <th>overview</th>\n",
       "      <th>popularity</th>\n",
       "      <th>...</th>\n",
       "      <th>runtime</th>\n",
       "      <th>spoken_languages</th>\n",
       "      <th>status</th>\n",
       "      <th>tagline</th>\n",
       "      <th>title</th>\n",
       "      <th>video</th>\n",
       "      <th>vote_average</th>\n",
       "      <th>vote_count</th>\n",
       "      <th>id_collection</th>\n",
       "      <th>collection_name</th>\n",
       "    </tr>\n",
       "  </thead>\n",
       "  <tbody>\n",
       "    <tr>\n",
       "      <th>0</th>\n",
       "      <td>False</td>\n",
       "      <td>30000000</td>\n",
       "      <td>[{'id': 16, 'name': 'Animation'}, {'id': 35, '...</td>\n",
       "      <td>http://toystory.disney.com/toy-story</td>\n",
       "      <td>862</td>\n",
       "      <td>tt0114709</td>\n",
       "      <td>en</td>\n",
       "      <td>Toy Story</td>\n",
       "      <td>Led by Woody, Andy's toys live happily in his ...</td>\n",
       "      <td>21.946943</td>\n",
       "      <td>...</td>\n",
       "      <td>81.0</td>\n",
       "      <td>[{'iso_639_1': 'en', 'name': 'English'}]</td>\n",
       "      <td>Released</td>\n",
       "      <td>NaN</td>\n",
       "      <td>Toy Story</td>\n",
       "      <td>False</td>\n",
       "      <td>7.7</td>\n",
       "      <td>5415.0</td>\n",
       "      <td>10194.0</td>\n",
       "      <td>Toy Story Collection</td>\n",
       "    </tr>\n",
       "    <tr>\n",
       "      <th>1</th>\n",
       "      <td>False</td>\n",
       "      <td>65000000</td>\n",
       "      <td>[{'id': 12, 'name': 'Adventure'}, {'id': 14, '...</td>\n",
       "      <td>NaN</td>\n",
       "      <td>8844</td>\n",
       "      <td>tt0113497</td>\n",
       "      <td>en</td>\n",
       "      <td>Jumanji</td>\n",
       "      <td>When siblings Judy and Peter discover an encha...</td>\n",
       "      <td>17.015539</td>\n",
       "      <td>...</td>\n",
       "      <td>104.0</td>\n",
       "      <td>[{'iso_639_1': 'en', 'name': 'English'}, {'iso...</td>\n",
       "      <td>Released</td>\n",
       "      <td>Roll the dice and unleash the excitement!</td>\n",
       "      <td>Jumanji</td>\n",
       "      <td>False</td>\n",
       "      <td>6.9</td>\n",
       "      <td>2413.0</td>\n",
       "      <td>NaN</td>\n",
       "      <td>NaN</td>\n",
       "    </tr>\n",
       "    <tr>\n",
       "      <th>2</th>\n",
       "      <td>False</td>\n",
       "      <td>0</td>\n",
       "      <td>[{'id': 10749, 'name': 'Romance'}, {'id': 35, ...</td>\n",
       "      <td>NaN</td>\n",
       "      <td>15602</td>\n",
       "      <td>tt0113228</td>\n",
       "      <td>en</td>\n",
       "      <td>Grumpier Old Men</td>\n",
       "      <td>A family wedding reignites the ancient feud be...</td>\n",
       "      <td>11.7129</td>\n",
       "      <td>...</td>\n",
       "      <td>101.0</td>\n",
       "      <td>[{'iso_639_1': 'en', 'name': 'English'}]</td>\n",
       "      <td>Released</td>\n",
       "      <td>Still Yelling. Still Fighting. Still Ready for...</td>\n",
       "      <td>Grumpier Old Men</td>\n",
       "      <td>False</td>\n",
       "      <td>6.5</td>\n",
       "      <td>92.0</td>\n",
       "      <td>119050.0</td>\n",
       "      <td>Grumpy Old Men Collection</td>\n",
       "    </tr>\n",
       "    <tr>\n",
       "      <th>3</th>\n",
       "      <td>False</td>\n",
       "      <td>16000000</td>\n",
       "      <td>[{'id': 35, 'name': 'Comedy'}, {'id': 18, 'nam...</td>\n",
       "      <td>NaN</td>\n",
       "      <td>31357</td>\n",
       "      <td>tt0114885</td>\n",
       "      <td>en</td>\n",
       "      <td>Waiting to Exhale</td>\n",
       "      <td>Cheated on, mistreated and stepped on, the wom...</td>\n",
       "      <td>3.859495</td>\n",
       "      <td>...</td>\n",
       "      <td>127.0</td>\n",
       "      <td>[{'iso_639_1': 'en', 'name': 'English'}]</td>\n",
       "      <td>Released</td>\n",
       "      <td>Friends are the people who let you be yourself...</td>\n",
       "      <td>Waiting to Exhale</td>\n",
       "      <td>False</td>\n",
       "      <td>6.1</td>\n",
       "      <td>34.0</td>\n",
       "      <td>NaN</td>\n",
       "      <td>NaN</td>\n",
       "    </tr>\n",
       "    <tr>\n",
       "      <th>4</th>\n",
       "      <td>False</td>\n",
       "      <td>0</td>\n",
       "      <td>[{'id': 35, 'name': 'Comedy'}]</td>\n",
       "      <td>NaN</td>\n",
       "      <td>11862</td>\n",
       "      <td>tt0113041</td>\n",
       "      <td>en</td>\n",
       "      <td>Father of the Bride Part II</td>\n",
       "      <td>Just when George Banks has recovered from his ...</td>\n",
       "      <td>8.387519</td>\n",
       "      <td>...</td>\n",
       "      <td>106.0</td>\n",
       "      <td>[{'iso_639_1': 'en', 'name': 'English'}]</td>\n",
       "      <td>Released</td>\n",
       "      <td>Just When His World Is Back To Normal... He's ...</td>\n",
       "      <td>Father of the Bride Part II</td>\n",
       "      <td>False</td>\n",
       "      <td>5.7</td>\n",
       "      <td>173.0</td>\n",
       "      <td>96871.0</td>\n",
       "      <td>Father of the Bride Collection</td>\n",
       "    </tr>\n",
       "  </tbody>\n",
       "</table>\n",
       "<p>5 rows × 25 columns</p>\n",
       "</div>"
      ],
      "text/plain": [
       "   adult    budget                                             genres  \\\n",
       "0  False  30000000  [{'id': 16, 'name': 'Animation'}, {'id': 35, '...   \n",
       "1  False  65000000  [{'id': 12, 'name': 'Adventure'}, {'id': 14, '...   \n",
       "2  False         0  [{'id': 10749, 'name': 'Romance'}, {'id': 35, ...   \n",
       "3  False  16000000  [{'id': 35, 'name': 'Comedy'}, {'id': 18, 'nam...   \n",
       "4  False         0                     [{'id': 35, 'name': 'Comedy'}]   \n",
       "\n",
       "                               homepage     id    imdb_id original_language  \\\n",
       "0  http://toystory.disney.com/toy-story    862  tt0114709                en   \n",
       "1                                   NaN   8844  tt0113497                en   \n",
       "2                                   NaN  15602  tt0113228                en   \n",
       "3                                   NaN  31357  tt0114885                en   \n",
       "4                                   NaN  11862  tt0113041                en   \n",
       "\n",
       "                original_title  \\\n",
       "0                    Toy Story   \n",
       "1                      Jumanji   \n",
       "2             Grumpier Old Men   \n",
       "3            Waiting to Exhale   \n",
       "4  Father of the Bride Part II   \n",
       "\n",
       "                                            overview popularity  ... runtime  \\\n",
       "0  Led by Woody, Andy's toys live happily in his ...  21.946943  ...    81.0   \n",
       "1  When siblings Judy and Peter discover an encha...  17.015539  ...   104.0   \n",
       "2  A family wedding reignites the ancient feud be...    11.7129  ...   101.0   \n",
       "3  Cheated on, mistreated and stepped on, the wom...   3.859495  ...   127.0   \n",
       "4  Just when George Banks has recovered from his ...   8.387519  ...   106.0   \n",
       "\n",
       "                                    spoken_languages    status  \\\n",
       "0           [{'iso_639_1': 'en', 'name': 'English'}]  Released   \n",
       "1  [{'iso_639_1': 'en', 'name': 'English'}, {'iso...  Released   \n",
       "2           [{'iso_639_1': 'en', 'name': 'English'}]  Released   \n",
       "3           [{'iso_639_1': 'en', 'name': 'English'}]  Released   \n",
       "4           [{'iso_639_1': 'en', 'name': 'English'}]  Released   \n",
       "\n",
       "                                             tagline  \\\n",
       "0                                                NaN   \n",
       "1          Roll the dice and unleash the excitement!   \n",
       "2  Still Yelling. Still Fighting. Still Ready for...   \n",
       "3  Friends are the people who let you be yourself...   \n",
       "4  Just When His World Is Back To Normal... He's ...   \n",
       "\n",
       "                         title  video vote_average vote_count id_collection  \\\n",
       "0                    Toy Story  False          7.7     5415.0       10194.0   \n",
       "1                      Jumanji  False          6.9     2413.0           NaN   \n",
       "2             Grumpier Old Men  False          6.5       92.0      119050.0   \n",
       "3            Waiting to Exhale  False          6.1       34.0           NaN   \n",
       "4  Father of the Bride Part II  False          5.7      173.0       96871.0   \n",
       "\n",
       "                  collection_name  \n",
       "0            Toy Story Collection  \n",
       "1                             NaN  \n",
       "2       Grumpy Old Men Collection  \n",
       "3                             NaN  \n",
       "4  Father of the Bride Collection  \n",
       "\n",
       "[5 rows x 25 columns]"
      ]
     },
     "execution_count": 371,
     "metadata": {},
     "output_type": "execute_result"
    }
   ],
   "source": [
    "# Create new columns from the dictionary in the 'collection' column\n",
    "df['id_collection'] = df['belongs_to_collection'].apply(lambda x: x['id'] if isinstance(x, dict) else np.nan)\n",
    "df['collection_name'] = df['belongs_to_collection'].apply(lambda x: x['name'] if isinstance(x, dict) else np.nan)\n",
    "df.drop('belongs_to_collection', axis=1, inplace=True)\n",
    "\n",
    "df.head(5)"
   ]
  },
  {
   "attachments": {},
   "cell_type": "markdown",
   "metadata": {},
   "source": [
    "### Unnest column \"genres\""
   ]
  },
  {
   "cell_type": "code",
   "execution_count": 372,
   "metadata": {},
   "outputs": [],
   "source": [
    "# Parse the strings into lists of dictionaries\n",
    "df['genres'] = df['genres'].apply(lambda x: ast.literal_eval(x) if isinstance(x, str) else [])\n",
    "\n",
    "# Extract the genre names and join them into a single string\n",
    "df['genre_names'] = df['genres'].apply(lambda x: ', '.join([d['name'] for d in x]))\n",
    "\n",
    "# Drop and rename\n",
    "df.drop('genres', axis=1, inplace=True)\n",
    "df = df.rename(columns={'genre_names': 'genres'})"
   ]
  },
  {
   "cell_type": "code",
   "execution_count": 373,
   "metadata": {},
   "outputs": [
    {
     "data": {
      "text/html": [
       "<div>\n",
       "<style scoped>\n",
       "    .dataframe tbody tr th:only-of-type {\n",
       "        vertical-align: middle;\n",
       "    }\n",
       "\n",
       "    .dataframe tbody tr th {\n",
       "        vertical-align: top;\n",
       "    }\n",
       "\n",
       "    .dataframe thead th {\n",
       "        text-align: right;\n",
       "    }\n",
       "</style>\n",
       "<table border=\"1\" class=\"dataframe\">\n",
       "  <thead>\n",
       "    <tr style=\"text-align: right;\">\n",
       "      <th></th>\n",
       "      <th>adult</th>\n",
       "      <th>budget</th>\n",
       "      <th>homepage</th>\n",
       "      <th>id</th>\n",
       "      <th>imdb_id</th>\n",
       "      <th>original_language</th>\n",
       "      <th>original_title</th>\n",
       "      <th>overview</th>\n",
       "      <th>popularity</th>\n",
       "      <th>poster_path</th>\n",
       "      <th>...</th>\n",
       "      <th>spoken_languages</th>\n",
       "      <th>status</th>\n",
       "      <th>tagline</th>\n",
       "      <th>title</th>\n",
       "      <th>video</th>\n",
       "      <th>vote_average</th>\n",
       "      <th>vote_count</th>\n",
       "      <th>id_collection</th>\n",
       "      <th>collection_name</th>\n",
       "      <th>genres</th>\n",
       "    </tr>\n",
       "  </thead>\n",
       "  <tbody>\n",
       "    <tr>\n",
       "      <th>0</th>\n",
       "      <td>False</td>\n",
       "      <td>30000000</td>\n",
       "      <td>http://toystory.disney.com/toy-story</td>\n",
       "      <td>862</td>\n",
       "      <td>tt0114709</td>\n",
       "      <td>en</td>\n",
       "      <td>Toy Story</td>\n",
       "      <td>Led by Woody, Andy's toys live happily in his ...</td>\n",
       "      <td>21.946943</td>\n",
       "      <td>/rhIRbceoE9lR4veEXuwCC2wARtG.jpg</td>\n",
       "      <td>...</td>\n",
       "      <td>[{'iso_639_1': 'en', 'name': 'English'}]</td>\n",
       "      <td>Released</td>\n",
       "      <td>NaN</td>\n",
       "      <td>Toy Story</td>\n",
       "      <td>False</td>\n",
       "      <td>7.7</td>\n",
       "      <td>5415.0</td>\n",
       "      <td>10194.0</td>\n",
       "      <td>Toy Story Collection</td>\n",
       "      <td>Animation, Comedy, Family</td>\n",
       "    </tr>\n",
       "    <tr>\n",
       "      <th>1</th>\n",
       "      <td>False</td>\n",
       "      <td>65000000</td>\n",
       "      <td>NaN</td>\n",
       "      <td>8844</td>\n",
       "      <td>tt0113497</td>\n",
       "      <td>en</td>\n",
       "      <td>Jumanji</td>\n",
       "      <td>When siblings Judy and Peter discover an encha...</td>\n",
       "      <td>17.015539</td>\n",
       "      <td>/vzmL6fP7aPKNKPRTFnZmiUfciyV.jpg</td>\n",
       "      <td>...</td>\n",
       "      <td>[{'iso_639_1': 'en', 'name': 'English'}, {'iso...</td>\n",
       "      <td>Released</td>\n",
       "      <td>Roll the dice and unleash the excitement!</td>\n",
       "      <td>Jumanji</td>\n",
       "      <td>False</td>\n",
       "      <td>6.9</td>\n",
       "      <td>2413.0</td>\n",
       "      <td>NaN</td>\n",
       "      <td>NaN</td>\n",
       "      <td>Adventure, Fantasy, Family</td>\n",
       "    </tr>\n",
       "    <tr>\n",
       "      <th>2</th>\n",
       "      <td>False</td>\n",
       "      <td>0</td>\n",
       "      <td>NaN</td>\n",
       "      <td>15602</td>\n",
       "      <td>tt0113228</td>\n",
       "      <td>en</td>\n",
       "      <td>Grumpier Old Men</td>\n",
       "      <td>A family wedding reignites the ancient feud be...</td>\n",
       "      <td>11.7129</td>\n",
       "      <td>/6ksm1sjKMFLbO7UY2i6G1ju9SML.jpg</td>\n",
       "      <td>...</td>\n",
       "      <td>[{'iso_639_1': 'en', 'name': 'English'}]</td>\n",
       "      <td>Released</td>\n",
       "      <td>Still Yelling. Still Fighting. Still Ready for...</td>\n",
       "      <td>Grumpier Old Men</td>\n",
       "      <td>False</td>\n",
       "      <td>6.5</td>\n",
       "      <td>92.0</td>\n",
       "      <td>119050.0</td>\n",
       "      <td>Grumpy Old Men Collection</td>\n",
       "      <td>Romance, Comedy</td>\n",
       "    </tr>\n",
       "    <tr>\n",
       "      <th>3</th>\n",
       "      <td>False</td>\n",
       "      <td>16000000</td>\n",
       "      <td>NaN</td>\n",
       "      <td>31357</td>\n",
       "      <td>tt0114885</td>\n",
       "      <td>en</td>\n",
       "      <td>Waiting to Exhale</td>\n",
       "      <td>Cheated on, mistreated and stepped on, the wom...</td>\n",
       "      <td>3.859495</td>\n",
       "      <td>/16XOMpEaLWkrcPqSQqhTmeJuqQl.jpg</td>\n",
       "      <td>...</td>\n",
       "      <td>[{'iso_639_1': 'en', 'name': 'English'}]</td>\n",
       "      <td>Released</td>\n",
       "      <td>Friends are the people who let you be yourself...</td>\n",
       "      <td>Waiting to Exhale</td>\n",
       "      <td>False</td>\n",
       "      <td>6.1</td>\n",
       "      <td>34.0</td>\n",
       "      <td>NaN</td>\n",
       "      <td>NaN</td>\n",
       "      <td>Comedy, Drama, Romance</td>\n",
       "    </tr>\n",
       "    <tr>\n",
       "      <th>4</th>\n",
       "      <td>False</td>\n",
       "      <td>0</td>\n",
       "      <td>NaN</td>\n",
       "      <td>11862</td>\n",
       "      <td>tt0113041</td>\n",
       "      <td>en</td>\n",
       "      <td>Father of the Bride Part II</td>\n",
       "      <td>Just when George Banks has recovered from his ...</td>\n",
       "      <td>8.387519</td>\n",
       "      <td>/e64sOI48hQXyru7naBFyssKFxVd.jpg</td>\n",
       "      <td>...</td>\n",
       "      <td>[{'iso_639_1': 'en', 'name': 'English'}]</td>\n",
       "      <td>Released</td>\n",
       "      <td>Just When His World Is Back To Normal... He's ...</td>\n",
       "      <td>Father of the Bride Part II</td>\n",
       "      <td>False</td>\n",
       "      <td>5.7</td>\n",
       "      <td>173.0</td>\n",
       "      <td>96871.0</td>\n",
       "      <td>Father of the Bride Collection</td>\n",
       "      <td>Comedy</td>\n",
       "    </tr>\n",
       "  </tbody>\n",
       "</table>\n",
       "<p>5 rows × 25 columns</p>\n",
       "</div>"
      ],
      "text/plain": [
       "   adult    budget                              homepage     id    imdb_id  \\\n",
       "0  False  30000000  http://toystory.disney.com/toy-story    862  tt0114709   \n",
       "1  False  65000000                                   NaN   8844  tt0113497   \n",
       "2  False         0                                   NaN  15602  tt0113228   \n",
       "3  False  16000000                                   NaN  31357  tt0114885   \n",
       "4  False         0                                   NaN  11862  tt0113041   \n",
       "\n",
       "  original_language               original_title  \\\n",
       "0                en                    Toy Story   \n",
       "1                en                      Jumanji   \n",
       "2                en             Grumpier Old Men   \n",
       "3                en            Waiting to Exhale   \n",
       "4                en  Father of the Bride Part II   \n",
       "\n",
       "                                            overview popularity  \\\n",
       "0  Led by Woody, Andy's toys live happily in his ...  21.946943   \n",
       "1  When siblings Judy and Peter discover an encha...  17.015539   \n",
       "2  A family wedding reignites the ancient feud be...    11.7129   \n",
       "3  Cheated on, mistreated and stepped on, the wom...   3.859495   \n",
       "4  Just when George Banks has recovered from his ...   8.387519   \n",
       "\n",
       "                        poster_path  ...  \\\n",
       "0  /rhIRbceoE9lR4veEXuwCC2wARtG.jpg  ...   \n",
       "1  /vzmL6fP7aPKNKPRTFnZmiUfciyV.jpg  ...   \n",
       "2  /6ksm1sjKMFLbO7UY2i6G1ju9SML.jpg  ...   \n",
       "3  /16XOMpEaLWkrcPqSQqhTmeJuqQl.jpg  ...   \n",
       "4  /e64sOI48hQXyru7naBFyssKFxVd.jpg  ...   \n",
       "\n",
       "                                    spoken_languages    status  \\\n",
       "0           [{'iso_639_1': 'en', 'name': 'English'}]  Released   \n",
       "1  [{'iso_639_1': 'en', 'name': 'English'}, {'iso...  Released   \n",
       "2           [{'iso_639_1': 'en', 'name': 'English'}]  Released   \n",
       "3           [{'iso_639_1': 'en', 'name': 'English'}]  Released   \n",
       "4           [{'iso_639_1': 'en', 'name': 'English'}]  Released   \n",
       "\n",
       "                                             tagline  \\\n",
       "0                                                NaN   \n",
       "1          Roll the dice and unleash the excitement!   \n",
       "2  Still Yelling. Still Fighting. Still Ready for...   \n",
       "3  Friends are the people who let you be yourself...   \n",
       "4  Just When His World Is Back To Normal... He's ...   \n",
       "\n",
       "                         title  video vote_average vote_count id_collection  \\\n",
       "0                    Toy Story  False          7.7     5415.0       10194.0   \n",
       "1                      Jumanji  False          6.9     2413.0           NaN   \n",
       "2             Grumpier Old Men  False          6.5       92.0      119050.0   \n",
       "3            Waiting to Exhale  False          6.1       34.0           NaN   \n",
       "4  Father of the Bride Part II  False          5.7      173.0       96871.0   \n",
       "\n",
       "                  collection_name                      genres  \n",
       "0            Toy Story Collection   Animation, Comedy, Family  \n",
       "1                             NaN  Adventure, Fantasy, Family  \n",
       "2       Grumpy Old Men Collection             Romance, Comedy  \n",
       "3                             NaN      Comedy, Drama, Romance  \n",
       "4  Father of the Bride Collection                      Comedy  \n",
       "\n",
       "[5 rows x 25 columns]"
      ]
     },
     "execution_count": 373,
     "metadata": {},
     "output_type": "execute_result"
    }
   ],
   "source": [
    "df.head(5)"
   ]
  },
  {
   "attachments": {},
   "cell_type": "markdown",
   "metadata": {},
   "source": [
    "### Unnest column \"production_companies\""
   ]
  },
  {
   "cell_type": "code",
   "execution_count": 374,
   "metadata": {},
   "outputs": [
    {
     "data": {
      "text/plain": [
       "Index(['adult', 'budget', 'homepage', 'id', 'imdb_id', 'original_language',\n",
       "       'original_title', 'overview', 'popularity', 'poster_path',\n",
       "       'production_companies', 'production_countries', 'release_date',\n",
       "       'revenue', 'runtime', 'spoken_languages', 'status', 'tagline', 'title',\n",
       "       'video', 'vote_average', 'vote_count', 'id_collection',\n",
       "       'collection_name', 'genres'],\n",
       "      dtype='object')"
      ]
     },
     "execution_count": 374,
     "metadata": {},
     "output_type": "execute_result"
    }
   ],
   "source": [
    "df.columns"
   ]
  },
  {
   "cell_type": "code",
   "execution_count": 375,
   "metadata": {},
   "outputs": [
    {
     "name": "stderr",
     "output_type": "stream",
     "text": [
      "/var/folders/5b/cj7qp6dx0rb7yfz06c2zb7ww0000gn/T/ipykernel_87951/967911470.py:2: FutureWarning: The default value of regex will change from True to False in a future version. In addition, single character regular expressions will *not* be treated as literal strings when regex=True.\n",
      "  df['production_companies'] = df['production_companies'].str.replace('[', '').str.replace(']', '')\n"
     ]
    }
   ],
   "source": [
    "# Remove the \"[\" and \"]\" symbols\n",
    "df['production_companies'] = df['production_companies'].str.replace('[', '').str.replace(']', '')"
   ]
  },
  {
   "cell_type": "code",
   "execution_count": 376,
   "metadata": {},
   "outputs": [
    {
     "name": "stdout",
     "output_type": "stream",
     "text": [
      "Number of strings: 45463\n",
      "Number of other types: 3\n"
     ]
    }
   ],
   "source": [
    "# Count the number of strings and other types\n",
    "string_count = df['production_companies'].apply(lambda x: isinstance(x, str)).sum()\n",
    "other_count = df['production_companies'].apply(lambda x: not isinstance(x, str)).sum()\n",
    "\n",
    "print(f\"Number of strings: {string_count}\")\n",
    "print(f\"Number of other types: {other_count}\")"
   ]
  },
  {
   "cell_type": "code",
   "execution_count": 377,
   "metadata": {},
   "outputs": [],
   "source": [
    "df['production_companies'] = df['production_companies'].apply(lambda x: str(x))"
   ]
  },
  {
   "cell_type": "code",
   "execution_count": 378,
   "metadata": {},
   "outputs": [
    {
     "name": "stdout",
     "output_type": "stream",
     "text": [
      "Number of strings: 45466\n",
      "Number of other types: 0\n"
     ]
    }
   ],
   "source": [
    "# Count the number of strings and other types\n",
    "string_count = df['production_companies'].apply(lambda x: isinstance(x, str)).sum()\n",
    "other_count = df['production_companies'].apply(lambda x: not isinstance(x, str)).sum()\n",
    "\n",
    "print(f\"Number of strings: {string_count}\")\n",
    "print(f\"Number of other types: {other_count}\")"
   ]
  },
  {
   "cell_type": "code",
   "execution_count": 379,
   "metadata": {},
   "outputs": [],
   "source": [
    "def get_companies_names(s):\n",
    "    if not s:\n",
    "        return \"\"\n",
    "    else:\n",
    "        names = [x.split(\":\")[1].strip()[1:-1] for x in s.split(\",\") if \"name\" in x]\n",
    "        return \", \".join(names)\n",
    "\n",
    "\n",
    "df['production_companies_names'] = df['production_companies'].apply(get_companies_names)"
   ]
  },
  {
   "cell_type": "code",
   "execution_count": 380,
   "metadata": {},
   "outputs": [],
   "source": [
    "df.drop('production_companies', axis=1, inplace=True)"
   ]
  },
  {
   "cell_type": "code",
   "execution_count": 381,
   "metadata": {},
   "outputs": [],
   "source": [
    "df = df.rename(columns={'production_companies_names': 'production_companies'})"
   ]
  },
  {
   "cell_type": "code",
   "execution_count": 382,
   "metadata": {},
   "outputs": [
    {
     "data": {
      "text/html": [
       "<div>\n",
       "<style scoped>\n",
       "    .dataframe tbody tr th:only-of-type {\n",
       "        vertical-align: middle;\n",
       "    }\n",
       "\n",
       "    .dataframe tbody tr th {\n",
       "        vertical-align: top;\n",
       "    }\n",
       "\n",
       "    .dataframe thead th {\n",
       "        text-align: right;\n",
       "    }\n",
       "</style>\n",
       "<table border=\"1\" class=\"dataframe\">\n",
       "  <thead>\n",
       "    <tr style=\"text-align: right;\">\n",
       "      <th></th>\n",
       "      <th>adult</th>\n",
       "      <th>budget</th>\n",
       "      <th>homepage</th>\n",
       "      <th>id</th>\n",
       "      <th>imdb_id</th>\n",
       "      <th>original_language</th>\n",
       "      <th>original_title</th>\n",
       "      <th>overview</th>\n",
       "      <th>popularity</th>\n",
       "      <th>poster_path</th>\n",
       "      <th>...</th>\n",
       "      <th>status</th>\n",
       "      <th>tagline</th>\n",
       "      <th>title</th>\n",
       "      <th>video</th>\n",
       "      <th>vote_average</th>\n",
       "      <th>vote_count</th>\n",
       "      <th>id_collection</th>\n",
       "      <th>collection_name</th>\n",
       "      <th>genres</th>\n",
       "      <th>production_companies</th>\n",
       "    </tr>\n",
       "  </thead>\n",
       "  <tbody>\n",
       "    <tr>\n",
       "      <th>0</th>\n",
       "      <td>False</td>\n",
       "      <td>30000000</td>\n",
       "      <td>http://toystory.disney.com/toy-story</td>\n",
       "      <td>862</td>\n",
       "      <td>tt0114709</td>\n",
       "      <td>en</td>\n",
       "      <td>Toy Story</td>\n",
       "      <td>Led by Woody, Andy's toys live happily in his ...</td>\n",
       "      <td>21.946943</td>\n",
       "      <td>/rhIRbceoE9lR4veEXuwCC2wARtG.jpg</td>\n",
       "      <td>...</td>\n",
       "      <td>Released</td>\n",
       "      <td>NaN</td>\n",
       "      <td>Toy Story</td>\n",
       "      <td>False</td>\n",
       "      <td>7.7</td>\n",
       "      <td>5415.0</td>\n",
       "      <td>10194.0</td>\n",
       "      <td>Toy Story Collection</td>\n",
       "      <td>Animation, Comedy, Family</td>\n",
       "      <td>Pixar Animation Studios</td>\n",
       "    </tr>\n",
       "    <tr>\n",
       "      <th>1</th>\n",
       "      <td>False</td>\n",
       "      <td>65000000</td>\n",
       "      <td>NaN</td>\n",
       "      <td>8844</td>\n",
       "      <td>tt0113497</td>\n",
       "      <td>en</td>\n",
       "      <td>Jumanji</td>\n",
       "      <td>When siblings Judy and Peter discover an encha...</td>\n",
       "      <td>17.015539</td>\n",
       "      <td>/vzmL6fP7aPKNKPRTFnZmiUfciyV.jpg</td>\n",
       "      <td>...</td>\n",
       "      <td>Released</td>\n",
       "      <td>Roll the dice and unleash the excitement!</td>\n",
       "      <td>Jumanji</td>\n",
       "      <td>False</td>\n",
       "      <td>6.9</td>\n",
       "      <td>2413.0</td>\n",
       "      <td>NaN</td>\n",
       "      <td>NaN</td>\n",
       "      <td>Adventure, Fantasy, Family</td>\n",
       "      <td>TriStar Pictures, Teitler Film, Interscope Com...</td>\n",
       "    </tr>\n",
       "    <tr>\n",
       "      <th>2</th>\n",
       "      <td>False</td>\n",
       "      <td>0</td>\n",
       "      <td>NaN</td>\n",
       "      <td>15602</td>\n",
       "      <td>tt0113228</td>\n",
       "      <td>en</td>\n",
       "      <td>Grumpier Old Men</td>\n",
       "      <td>A family wedding reignites the ancient feud be...</td>\n",
       "      <td>11.7129</td>\n",
       "      <td>/6ksm1sjKMFLbO7UY2i6G1ju9SML.jpg</td>\n",
       "      <td>...</td>\n",
       "      <td>Released</td>\n",
       "      <td>Still Yelling. Still Fighting. Still Ready for...</td>\n",
       "      <td>Grumpier Old Men</td>\n",
       "      <td>False</td>\n",
       "      <td>6.5</td>\n",
       "      <td>92.0</td>\n",
       "      <td>119050.0</td>\n",
       "      <td>Grumpy Old Men Collection</td>\n",
       "      <td>Romance, Comedy</td>\n",
       "      <td>Warner Bros., Lancaster Gate</td>\n",
       "    </tr>\n",
       "  </tbody>\n",
       "</table>\n",
       "<p>3 rows × 25 columns</p>\n",
       "</div>"
      ],
      "text/plain": [
       "   adult    budget                              homepage     id    imdb_id  \\\n",
       "0  False  30000000  http://toystory.disney.com/toy-story    862  tt0114709   \n",
       "1  False  65000000                                   NaN   8844  tt0113497   \n",
       "2  False         0                                   NaN  15602  tt0113228   \n",
       "\n",
       "  original_language    original_title  \\\n",
       "0                en         Toy Story   \n",
       "1                en           Jumanji   \n",
       "2                en  Grumpier Old Men   \n",
       "\n",
       "                                            overview popularity  \\\n",
       "0  Led by Woody, Andy's toys live happily in his ...  21.946943   \n",
       "1  When siblings Judy and Peter discover an encha...  17.015539   \n",
       "2  A family wedding reignites the ancient feud be...    11.7129   \n",
       "\n",
       "                        poster_path  ...    status  \\\n",
       "0  /rhIRbceoE9lR4veEXuwCC2wARtG.jpg  ...  Released   \n",
       "1  /vzmL6fP7aPKNKPRTFnZmiUfciyV.jpg  ...  Released   \n",
       "2  /6ksm1sjKMFLbO7UY2i6G1ju9SML.jpg  ...  Released   \n",
       "\n",
       "                                             tagline             title  video  \\\n",
       "0                                                NaN         Toy Story  False   \n",
       "1          Roll the dice and unleash the excitement!           Jumanji  False   \n",
       "2  Still Yelling. Still Fighting. Still Ready for...  Grumpier Old Men  False   \n",
       "\n",
       "  vote_average vote_count id_collection            collection_name  \\\n",
       "0          7.7     5415.0       10194.0       Toy Story Collection   \n",
       "1          6.9     2413.0           NaN                        NaN   \n",
       "2          6.5       92.0      119050.0  Grumpy Old Men Collection   \n",
       "\n",
       "                       genres  \\\n",
       "0   Animation, Comedy, Family   \n",
       "1  Adventure, Fantasy, Family   \n",
       "2             Romance, Comedy   \n",
       "\n",
       "                                production_companies  \n",
       "0                            Pixar Animation Studios  \n",
       "1  TriStar Pictures, Teitler Film, Interscope Com...  \n",
       "2                       Warner Bros., Lancaster Gate  \n",
       "\n",
       "[3 rows x 25 columns]"
      ]
     },
     "execution_count": 382,
     "metadata": {},
     "output_type": "execute_result"
    }
   ],
   "source": [
    "df.head(3)"
   ]
  },
  {
   "attachments": {},
   "cell_type": "markdown",
   "metadata": {},
   "source": [
    "### Unnest column \"spoken_languages\""
   ]
  },
  {
   "cell_type": "code",
   "execution_count": 383,
   "metadata": {},
   "outputs": [
    {
     "data": {
      "text/plain": [
       "Index(['adult', 'budget', 'homepage', 'id', 'imdb_id', 'original_language',\n",
       "       'original_title', 'overview', 'popularity', 'poster_path',\n",
       "       'production_countries', 'release_date', 'revenue', 'runtime',\n",
       "       'spoken_languages', 'status', 'tagline', 'title', 'video',\n",
       "       'vote_average', 'vote_count', 'id_collection', 'collection_name',\n",
       "       'genres', 'production_companies'],\n",
       "      dtype='object')"
      ]
     },
     "execution_count": 383,
     "metadata": {},
     "output_type": "execute_result"
    }
   ],
   "source": [
    "df.columns"
   ]
  },
  {
   "cell_type": "code",
   "execution_count": 384,
   "metadata": {},
   "outputs": [
    {
     "data": {
      "text/plain": [
       "'spoken_languages'"
      ]
     },
     "execution_count": 384,
     "metadata": {},
     "output_type": "execute_result"
    }
   ],
   "source": [
    "df.columns[14]"
   ]
  },
  {
   "cell_type": "code",
   "execution_count": 385,
   "metadata": {},
   "outputs": [
    {
     "data": {
      "text/plain": [
       "\"[{'iso_639_1': 'en', 'name': 'English'}, {'iso_639_1': 'fr', 'name': 'FranÃ§ais'}]\""
      ]
     },
     "execution_count": 385,
     "metadata": {},
     "output_type": "execute_result"
    }
   ],
   "source": [
    "df['spoken_languages'][1]"
   ]
  },
  {
   "cell_type": "code",
   "execution_count": 386,
   "metadata": {},
   "outputs": [
    {
     "name": "stdout",
     "output_type": "stream",
     "text": [
      "Number of strings: 45460\n",
      "Number of other types: 6\n"
     ]
    }
   ],
   "source": [
    "# Count the number of strings and other types\n",
    "string_count = df['spoken_languages'].apply(lambda x: isinstance(x, str)).sum()\n",
    "other_count = df['spoken_languages'].apply(lambda x: not isinstance(x, str)).sum()\n",
    "\n",
    "print(f\"Number of strings: {string_count}\")\n",
    "print(f\"Number of other types: {other_count}\")"
   ]
  },
  {
   "cell_type": "code",
   "execution_count": 387,
   "metadata": {},
   "outputs": [],
   "source": [
    "df['spoken_languages'] = df['spoken_languages'].apply(lambda x: str(x))"
   ]
  },
  {
   "cell_type": "code",
   "execution_count": 388,
   "metadata": {},
   "outputs": [
    {
     "name": "stdout",
     "output_type": "stream",
     "text": [
      "Number of strings: 45466\n",
      "Number of other types: 0\n"
     ]
    }
   ],
   "source": [
    "# Count the number of strings and other types\n",
    "string_count = df['spoken_languages'].apply(lambda x: isinstance(x, str)).sum()\n",
    "other_count = df['spoken_languages'].apply(lambda x: not isinstance(x, str)).sum()\n",
    "\n",
    "print(f\"Number of strings: {string_count}\")\n",
    "print(f\"Number of other types: {other_count}\")"
   ]
  },
  {
   "cell_type": "code",
   "execution_count": 389,
   "metadata": {},
   "outputs": [],
   "source": [
    "def get_spoken_languages(s):\n",
    "    if not s:\n",
    "        return \"\"\n",
    "    else:\n",
    "        names = [x.split(\":\")[1].strip()[1:-1] for x in s.split(\",\") if \"iso_639_1\" in x]\n",
    "        return \", \".join(names)\n",
    "\n",
    "\n",
    "df['spoken_languages_str'] = df['spoken_languages'].apply(get_spoken_languages)"
   ]
  },
  {
   "cell_type": "code",
   "execution_count": 390,
   "metadata": {},
   "outputs": [],
   "source": [
    "df.drop('spoken_languages', axis=1, inplace=True)"
   ]
  },
  {
   "cell_type": "code",
   "execution_count": 391,
   "metadata": {},
   "outputs": [],
   "source": [
    "df = df.rename(columns={'spoken_languages_str': 'spoken_languages'})"
   ]
  },
  {
   "attachments": {},
   "cell_type": "markdown",
   "metadata": {},
   "source": [
    "### Unnest column \"production_countries\""
   ]
  },
  {
   "cell_type": "code",
   "execution_count": 392,
   "metadata": {},
   "outputs": [
    {
     "name": "stdout",
     "output_type": "stream",
     "text": [
      "False\n",
      "30000000\n",
      "http://toystory.disney.com/toy-story\n",
      "862\n",
      "tt0114709\n",
      "en\n",
      "Toy Story\n",
      "Led by Woody, Andy's toys live happily in his room until Andy's birthday brings Buzz Lightyear onto the scene. Afraid of losing his place in Andy's heart, Woody plots against Buzz. But when circumstances separate Buzz and Woody from their owner, the duo eventually learns to put aside their differences.\n",
      "21.946943\n",
      "/rhIRbceoE9lR4veEXuwCC2wARtG.jpg\n",
      "[{'iso_3166_1': 'US', 'name': 'United States of America'}]\n",
      "1995-10-30\n",
      "373554033.0\n",
      "81.0\n",
      "Released\n",
      "nan\n",
      "Toy Story\n",
      "False\n",
      "7.7\n",
      "5415.0\n",
      "10194.0\n",
      "Toy Story Collection\n",
      "Animation, Comedy, Family\n",
      "Pixar Animation Studios\n",
      "en\n"
     ]
    }
   ],
   "source": [
    "for i in df.iloc[0]:\n",
    "    print(i)"
   ]
  },
  {
   "cell_type": "code",
   "execution_count": 393,
   "metadata": {},
   "outputs": [
    {
     "data": {
      "text/plain": [
       "'production_countries'"
      ]
     },
     "execution_count": 393,
     "metadata": {},
     "output_type": "execute_result"
    }
   ],
   "source": [
    "df.columns[10]"
   ]
  },
  {
   "cell_type": "code",
   "execution_count": 394,
   "metadata": {},
   "outputs": [
    {
     "name": "stdout",
     "output_type": "stream",
     "text": [
      "Number of strings: 45463\n",
      "Number of other types: 3\n"
     ]
    }
   ],
   "source": [
    "# Count the number of strings and other types\n",
    "string_count = df['production_countries'].apply(lambda x: isinstance(x, str)).sum()\n",
    "other_count = df['production_countries'].apply(lambda x: not isinstance(x, str)).sum()\n",
    "\n",
    "print(f\"Number of strings: {string_count}\")\n",
    "print(f\"Number of other types: {other_count}\")"
   ]
  },
  {
   "cell_type": "code",
   "execution_count": 395,
   "metadata": {},
   "outputs": [],
   "source": [
    "df['production_countries'] = df['production_countries'].apply(lambda x: str(x))"
   ]
  },
  {
   "cell_type": "code",
   "execution_count": 396,
   "metadata": {},
   "outputs": [
    {
     "name": "stdout",
     "output_type": "stream",
     "text": [
      "Number of strings: 45466\n",
      "Number of other types: 0\n"
     ]
    }
   ],
   "source": [
    "# Count the number of strings and other types\n",
    "string_count = df['production_countries'].apply(lambda x: isinstance(x, str)).sum()\n",
    "other_count = df['production_countries'].apply(lambda x: not isinstance(x, str)).sum()\n",
    "\n",
    "print(f\"Number of strings: {string_count}\")\n",
    "print(f\"Number of other types: {other_count}\")"
   ]
  },
  {
   "cell_type": "code",
   "execution_count": 397,
   "metadata": {},
   "outputs": [],
   "source": [
    "def get_production_countries(s):\n",
    "    if not s:\n",
    "        return \"\"\n",
    "    else:\n",
    "        names = [x.split(\":\")[1].strip()[1:-1] for x in s.split(\",\") if \"iso_3166_1\" in x]\n",
    "        return \", \".join(names)\n",
    "\n",
    "df['production_countries_str'] = df['production_countries'].apply(get_production_countries)"
   ]
  },
  {
   "cell_type": "code",
   "execution_count": 398,
   "metadata": {},
   "outputs": [],
   "source": [
    "df.drop('production_countries', axis=1, inplace=True)"
   ]
  },
  {
   "cell_type": "code",
   "execution_count": 399,
   "metadata": {},
   "outputs": [],
   "source": [
    "df = df.rename(columns={'production_countries_str': 'production_countries'})"
   ]
  },
  {
   "cell_type": "code",
   "execution_count": 400,
   "metadata": {},
   "outputs": [
    {
     "name": "stdout",
     "output_type": "stream",
     "text": [
      "False\n",
      "30000000\n",
      "http://toystory.disney.com/toy-story\n",
      "862\n",
      "tt0114709\n",
      "en\n",
      "Toy Story\n",
      "Led by Woody, Andy's toys live happily in his room until Andy's birthday brings Buzz Lightyear onto the scene. Afraid of losing his place in Andy's heart, Woody plots against Buzz. But when circumstances separate Buzz and Woody from their owner, the duo eventually learns to put aside their differences.\n",
      "21.946943\n",
      "/rhIRbceoE9lR4veEXuwCC2wARtG.jpg\n",
      "1995-10-30\n",
      "373554033.0\n",
      "81.0\n",
      "Released\n",
      "nan\n",
      "Toy Story\n",
      "False\n",
      "7.7\n",
      "5415.0\n",
      "10194.0\n",
      "Toy Story Collection\n",
      "Animation, Comedy, Family\n",
      "Pixar Animation Studios\n",
      "en\n",
      "US\n"
     ]
    }
   ],
   "source": [
    "for i in df.iloc[0]:\n",
    "    print(i)"
   ]
  },
  {
   "attachments": {},
   "cell_type": "markdown",
   "metadata": {},
   "source": [
    "<span style=\"color:orange\">Los valores nulos de los campos revenue, budget deben ser rellenados por el número 0.</span>"
   ]
  },
  {
   "attachments": {},
   "cell_type": "markdown",
   "metadata": {},
   "source": [
    "### Revenue"
   ]
  },
  {
   "cell_type": "code",
   "execution_count": 401,
   "metadata": {},
   "outputs": [
    {
     "name": "stdout",
     "output_type": "stream",
     "text": [
      "Null values: 6, Empty values: 0\n"
     ]
    }
   ],
   "source": [
    "# Count null/NaN values\n",
    "num_null = df['revenue'].isnull().sum()\n",
    "\n",
    "# Count empty string values\n",
    "num_empty = (df['revenue'] == '').sum()\n",
    "\n",
    "print(f'Null values: {num_null}, Empty values: {num_empty}')"
   ]
  },
  {
   "cell_type": "code",
   "execution_count": 402,
   "metadata": {},
   "outputs": [
    {
     "name": "stdout",
     "output_type": "stream",
     "text": [
      "Number of float: 45466\n",
      "Number of other types: 0\n"
     ]
    }
   ],
   "source": [
    "# Count the number of float and other types\n",
    "float_count = df['revenue'].apply(lambda x: isinstance(x, float)).sum()\n",
    "other_count = df['revenue'].apply(lambda x: not isinstance(x, float)).sum()\n",
    "\n",
    "print(f\"Number of float: {float_count}\")\n",
    "print(f\"Number of other types: {other_count}\")"
   ]
  },
  {
   "cell_type": "code",
   "execution_count": 403,
   "metadata": {},
   "outputs": [],
   "source": [
    "df['revenue'].fillna(0, inplace=True)"
   ]
  },
  {
   "cell_type": "code",
   "execution_count": 404,
   "metadata": {},
   "outputs": [
    {
     "name": "stdout",
     "output_type": "stream",
     "text": [
      "Null values: 0, Empty values: 0\n"
     ]
    }
   ],
   "source": [
    "# Count null/NaN values\n",
    "num_null = df['revenue'].isnull().sum()\n",
    "\n",
    "# Count empty string values\n",
    "num_empty = (df['revenue'] == '').sum()\n",
    "\n",
    "print(f'Null values: {num_null}, Empty values: {num_empty}')"
   ]
  },
  {
   "attachments": {},
   "cell_type": "markdown",
   "metadata": {},
   "source": [
    "### Budget"
   ]
  },
  {
   "cell_type": "code",
   "execution_count": 405,
   "metadata": {},
   "outputs": [
    {
     "name": "stdout",
     "output_type": "stream",
     "text": [
      "Null values: 0, Empty values: 0\n"
     ]
    }
   ],
   "source": [
    "# Count null/NaN values\n",
    "num_null = df['budget'].isnull().sum()\n",
    "\n",
    "# Count empty string values\n",
    "num_empty = (df['budget'] == '').sum()\n",
    "\n",
    "print(f'Null values: {num_null}, Empty values: {num_empty}')"
   ]
  },
  {
   "cell_type": "code",
   "execution_count": 406,
   "metadata": {},
   "outputs": [
    {
     "name": "stdout",
     "output_type": "stream",
     "text": [
      "Number of strings: 45466\n",
      "Number of other types: 0\n"
     ]
    }
   ],
   "source": [
    "# Count the number of strings and other types\n",
    "string_count = df['budget'].apply(lambda x: isinstance(x, str)).sum()\n",
    "other_count = df['budget'].apply(lambda x: not isinstance(x, str)).sum()\n",
    "\n",
    "print(f\"Number of strings: {string_count}\")\n",
    "print(f\"Number of other types: {other_count}\")"
   ]
  },
  {
   "attachments": {},
   "cell_type": "markdown",
   "metadata": {},
   "source": [
    "<span style=\"color:orange\">Los valores nulos del campo release date deben eliminarse.</span>"
   ]
  },
  {
   "attachments": {},
   "cell_type": "markdown",
   "metadata": {},
   "source": [
    "### Release"
   ]
  },
  {
   "cell_type": "code",
   "execution_count": 407,
   "metadata": {},
   "outputs": [
    {
     "data": {
      "text/plain": [
       "Index(['adult', 'budget', 'homepage', 'id', 'imdb_id', 'original_language',\n",
       "       'original_title', 'overview', 'popularity', 'poster_path',\n",
       "       'release_date', 'revenue', 'runtime', 'status', 'tagline', 'title',\n",
       "       'video', 'vote_average', 'vote_count', 'id_collection',\n",
       "       'collection_name', 'genres', 'production_companies', 'spoken_languages',\n",
       "       'production_countries'],\n",
       "      dtype='object')"
      ]
     },
     "execution_count": 407,
     "metadata": {},
     "output_type": "execute_result"
    }
   ],
   "source": [
    "df.columns"
   ]
  },
  {
   "cell_type": "code",
   "execution_count": 417,
   "metadata": {},
   "outputs": [
    {
     "name": "stdout",
     "output_type": "stream",
     "text": [
      "Null values: 87, Empty values: 0\n"
     ]
    }
   ],
   "source": [
    "# Count null/NaN values\n",
    "num_null = df['release_date'].isnull().sum()\n",
    "\n",
    "# Count empty string values\n",
    "num_empty = (df['release_date'] == '').sum()\n",
    "\n",
    "print(f'Null values: {num_null}, Empty values: {num_empty}')"
   ]
  },
  {
   "cell_type": "code",
   "execution_count": 409,
   "metadata": {},
   "outputs": [
    {
     "data": {
      "text/plain": [
       "(45466, 25)"
      ]
     },
     "execution_count": 409,
     "metadata": {},
     "output_type": "execute_result"
    }
   ],
   "source": [
    "df.shape"
   ]
  },
  {
   "cell_type": "code",
   "execution_count": 420,
   "metadata": {},
   "outputs": [],
   "source": [
    "df = df[df['release_date'].notna()]"
   ]
  },
  {
   "cell_type": "code",
   "execution_count": 411,
   "metadata": {},
   "outputs": [
    {
     "data": {
      "text/plain": [
       "45379"
      ]
     },
     "execution_count": 411,
     "metadata": {},
     "output_type": "execute_result"
    }
   ],
   "source": [
    "45466-87"
   ]
  },
  {
   "cell_type": "code",
   "execution_count": 421,
   "metadata": {},
   "outputs": [
    {
     "data": {
      "text/plain": [
       "(45379, 25)"
      ]
     },
     "execution_count": 421,
     "metadata": {},
     "output_type": "execute_result"
    }
   ],
   "source": [
    "df.shape"
   ]
  },
  {
   "attachments": {},
   "cell_type": "markdown",
   "metadata": {},
   "source": [
    "<span style=\"color:orange\">De haber fechas, deberán tener el formato AAAA-mm-dd, además deberán crear la columna release_year donde extraerán el año de la fecha de estreno.</span>"
   ]
  },
  {
   "cell_type": "code",
   "execution_count": 423,
   "metadata": {},
   "outputs": [
    {
     "name": "stdout",
     "output_type": "stream",
     "text": [
      "False\n",
      "30000000\n",
      "http://toystory.disney.com/toy-story\n",
      "862\n",
      "tt0114709\n",
      "en\n",
      "Toy Story\n",
      "Led by Woody, Andy's toys live happily in his room until Andy's birthday brings Buzz Lightyear onto the scene. Afraid of losing his place in Andy's heart, Woody plots against Buzz. But when circumstances separate Buzz and Woody from their owner, the duo eventually learns to put aside their differences.\n",
      "21.946943\n",
      "/rhIRbceoE9lR4veEXuwCC2wARtG.jpg\n",
      "1995-10-30\n",
      "373554033.0\n",
      "81.0\n",
      "Released\n",
      "nan\n",
      "Toy Story\n",
      "False\n",
      "7.7\n",
      "5415.0\n",
      "10194.0\n",
      "Toy Story Collection\n",
      "Animation, Comedy, Family\n",
      "Pixar Animation Studios\n",
      "en\n",
      "US\n"
     ]
    }
   ],
   "source": [
    "for i in df.iloc[0]:\n",
    "    print(i)"
   ]
  },
  {
   "cell_type": "code",
   "execution_count": 428,
   "metadata": {},
   "outputs": [
    {
     "name": "stdout",
     "output_type": "stream",
     "text": [
      "Null values: 0, Empty values: 0\n"
     ]
    }
   ],
   "source": [
    "# Count null/NaN values\n",
    "num_null = df['release_date'].isnull().sum()\n",
    "\n",
    "# Count empty string values\n",
    "num_empty = (df['release_date'] == '').sum()\n",
    "\n",
    "print(f'Null values: {num_null}, Empty values: {num_empty}')"
   ]
  },
  {
   "cell_type": "code",
   "execution_count": 431,
   "metadata": {},
   "outputs": [
    {
     "data": {
      "text/plain": [
       "10    1995-11-17\n",
       "11    1995-12-22\n",
       "12    1995-12-22\n",
       "13    1995-12-22\n",
       "14    1995-12-22\n",
       "15    1995-11-22\n",
       "16    1995-12-13\n",
       "17    1995-12-09\n",
       "18    1995-11-10\n",
       "19    1995-11-21\n",
       "Name: release_date, dtype: object"
      ]
     },
     "execution_count": 431,
     "metadata": {},
     "output_type": "execute_result"
    }
   ],
   "source": [
    "df['release_date'][10:20]"
   ]
  },
  {
   "cell_type": "code",
   "execution_count": 432,
   "metadata": {},
   "outputs": [
    {
     "name": "stderr",
     "output_type": "stream",
     "text": [
      "/var/folders/5b/cj7qp6dx0rb7yfz06c2zb7ww0000gn/T/ipykernel_87951/2432464937.py:1: SettingWithCopyWarning: \n",
      "A value is trying to be set on a copy of a slice from a DataFrame.\n",
      "Try using .loc[row_indexer,col_indexer] = value instead\n",
      "\n",
      "See the caveats in the documentation: https://pandas.pydata.org/pandas-docs/stable/user_guide/indexing.html#returning-a-view-versus-a-copy\n",
      "  df['release_year'] = df['release_date'].str[:4]\n"
     ]
    }
   ],
   "source": [
    "df['release_year'] = df['release_date'].str[:4]"
   ]
  },
  {
   "attachments": {},
   "cell_type": "markdown",
   "metadata": {},
   "source": [
    "<span style=\"color:orange\">Crear la columna con el retorno de inversión, llamada return con los campos revenue y budget, dividiendo estas dos últimas revenue / budget, cuando no hay datos disponibles para calcularlo, deberá tomar el valor 0.</span>"
   ]
  },
  {
   "attachments": {},
   "cell_type": "markdown",
   "metadata": {},
   "source": [
    "### Revenue"
   ]
  },
  {
   "cell_type": "code",
   "execution_count": 436,
   "metadata": {},
   "outputs": [
    {
     "data": {
      "text/plain": [
       "numpy.float64"
      ]
     },
     "execution_count": 436,
     "metadata": {},
     "output_type": "execute_result"
    }
   ],
   "source": [
    "type(df['revenue'][0])"
   ]
  },
  {
   "cell_type": "code",
   "execution_count": 437,
   "metadata": {},
   "outputs": [
    {
     "name": "stdout",
     "output_type": "stream",
     "text": [
      "Number of float: 45379\n",
      "Number of other types: 0\n"
     ]
    }
   ],
   "source": [
    "# Count the number of float and other types\n",
    "float_count = df['revenue'].apply(lambda x: isinstance(x, float)).sum()\n",
    "other_count = df['revenue'].apply(lambda x: not isinstance(x, float)).sum()\n",
    "\n",
    "print(f\"Number of float: {float_count}\")\n",
    "print(f\"Number of other types: {other_count}\")"
   ]
  },
  {
   "attachments": {},
   "cell_type": "markdown",
   "metadata": {},
   "source": [
    "### Budget"
   ]
  },
  {
   "cell_type": "code",
   "execution_count": 439,
   "metadata": {},
   "outputs": [
    {
     "name": "stdout",
     "output_type": "stream",
     "text": [
      "Number of strings: 45379\n",
      "Number of other types: 0\n"
     ]
    }
   ],
   "source": [
    "# Count the number of strings and other types\n",
    "string_count = df['budget'].apply(lambda x: isinstance(x, str)).sum()\n",
    "other_count = df['budget'].apply(lambda x: not isinstance(x, str)).sum()\n",
    "\n",
    "print(f\"Number of strings: {string_count}\")\n",
    "print(f\"Number of other types: {other_count}\")"
   ]
  },
  {
   "cell_type": "code",
   "execution_count": 441,
   "metadata": {},
   "outputs": [
    {
     "name": "stdout",
     "output_type": "stream",
     "text": [
      "Count of values that can be formatted to float: 45376\n",
      "Count of values that can't be formatted to float: 3\n"
     ]
    }
   ],
   "source": [
    "# Count of values that can be formatted to float\n",
    "count_float = df['budget'].apply(lambda x: True if isinstance(x, str) and (x.strip().replace(',', '').isdigit() or (x.strip().startswith('-') and x[1:].replace(',', '').isdigit())) else False).sum()\n",
    "\n",
    "# Count of values that can't be formatted to float\n",
    "count_not_float = len(df) - count_float\n",
    "\n",
    "print(\"Count of values that can be formatted to float:\", count_float)\n",
    "print(\"Count of values that can't be formatted to float:\", count_not_float)"
   ]
  },
  {
   "cell_type": "code",
   "execution_count": 442,
   "metadata": {},
   "outputs": [
    {
     "data": {
      "text/plain": [
       "(45379, 26)"
      ]
     },
     "execution_count": 442,
     "metadata": {},
     "output_type": "execute_result"
    }
   ],
   "source": [
    "df.shape"
   ]
  },
  {
   "cell_type": "code",
   "execution_count": 443,
   "metadata": {},
   "outputs": [
    {
     "name": "stderr",
     "output_type": "stream",
     "text": [
      "/var/folders/5b/cj7qp6dx0rb7yfz06c2zb7ww0000gn/T/ipykernel_87951/2327729489.py:2: SettingWithCopyWarning: \n",
      "A value is trying to be set on a copy of a slice from a DataFrame.\n",
      "Try using .loc[row_indexer,col_indexer] = value instead\n",
      "\n",
      "See the caveats in the documentation: https://pandas.pydata.org/pandas-docs/stable/user_guide/indexing.html#returning-a-view-versus-a-copy\n",
      "  df['budget'] = pd.to_numeric(df['budget'], errors='coerce')\n"
     ]
    }
   ],
   "source": [
    "# Convert column to floats where possible, set non-convertible values to NaN\n",
    "df['budget'] = pd.to_numeric(df['budget'], errors='coerce')\n",
    "\n",
    "# Drop rows with NaN values\n",
    "df = df[df['budget'].notna()]"
   ]
  },
  {
   "cell_type": "code",
   "execution_count": 444,
   "metadata": {},
   "outputs": [
    {
     "data": {
      "text/plain": [
       "(45376, 26)"
      ]
     },
     "execution_count": 444,
     "metadata": {},
     "output_type": "execute_result"
    }
   ],
   "source": [
    "df.shape"
   ]
  },
  {
   "cell_type": "code",
   "execution_count": 445,
   "metadata": {},
   "outputs": [
    {
     "data": {
      "text/plain": [
       "0        30000000.0\n",
       "1        65000000.0\n",
       "2               0.0\n",
       "3        16000000.0\n",
       "4               0.0\n",
       "            ...    \n",
       "45460           0.0\n",
       "45462           0.0\n",
       "45463           0.0\n",
       "45464           0.0\n",
       "45465           0.0\n",
       "Name: budget, Length: 45376, dtype: float64"
      ]
     },
     "execution_count": 445,
     "metadata": {},
     "output_type": "execute_result"
    }
   ],
   "source": [
    "df['budget'].apply(lambda x: float(x))"
   ]
  },
  {
   "cell_type": "code",
   "execution_count": 448,
   "metadata": {},
   "outputs": [
    {
     "data": {
      "text/plain": [
       "numpy.float64"
      ]
     },
     "execution_count": 448,
     "metadata": {},
     "output_type": "execute_result"
    }
   ],
   "source": [
    "type(df['budget'][3])"
   ]
  },
  {
   "cell_type": "code",
   "execution_count": null,
   "metadata": {},
   "outputs": [],
   "source": [
    "df['return'] = df['revenue'] / df['budget']"
   ]
  },
  {
   "cell_type": "code",
   "execution_count": null,
   "metadata": {},
   "outputs": [],
   "source": [
    "# Replace NaN with 0\n",
    "df['return'] = df['return'].fillna(0)\n",
    "\n",
    "# Replace inf with 0\n",
    "df['return'] = df['return'].replace([np.inf, -np.inf], 0)"
   ]
  },
  {
   "cell_type": "code",
   "execution_count": 464,
   "metadata": {},
   "outputs": [
    {
     "data": {
      "text/plain": [
       "10    1.739992\n",
       "11    0.000000\n",
       "12    0.000000\n",
       "13    0.310949\n",
       "14    0.102218\n",
       "15    2.232930\n",
       "16    8.181818\n",
       "17    1.075000\n",
       "18    7.079518\n",
       "19    0.590519\n",
       "Name: return, dtype: float64"
      ]
     },
     "execution_count": 464,
     "metadata": {},
     "output_type": "execute_result"
    }
   ],
   "source": [
    "df['return'][10:20]"
   ]
  },
  {
   "attachments": {},
   "cell_type": "markdown",
   "metadata": {},
   "source": [
    "<span style=\"color:orange\">Eliminar las columnas que no serán utilizadas, video,imdb_id,adult,original_title,vote_count,poster_path y homepage.</span>"
   ]
  },
  {
   "cell_type": "code",
   "execution_count": 466,
   "metadata": {},
   "outputs": [
    {
     "data": {
      "text/plain": [
       "Index(['adult', 'budget', 'homepage', 'id', 'imdb_id', 'original_language',\n",
       "       'original_title', 'overview', 'popularity', 'poster_path',\n",
       "       'release_date', 'revenue', 'runtime', 'status', 'tagline', 'title',\n",
       "       'video', 'vote_average', 'vote_count', 'id_collection',\n",
       "       'collection_name', 'genres', 'production_companies', 'spoken_languages',\n",
       "       'production_countries', 'release_year', 'return'],\n",
       "      dtype='object')"
      ]
     },
     "execution_count": 466,
     "metadata": {},
     "output_type": "execute_result"
    }
   ],
   "source": [
    "df.columns"
   ]
  },
  {
   "cell_type": "code",
   "execution_count": 467,
   "metadata": {},
   "outputs": [
    {
     "data": {
      "text/plain": [
       "(45376, 27)"
      ]
     },
     "execution_count": 467,
     "metadata": {},
     "output_type": "execute_result"
    }
   ],
   "source": [
    "df.shape"
   ]
  },
  {
   "cell_type": "code",
   "execution_count": null,
   "metadata": {},
   "outputs": [],
   "source": [
    "df.drop(['video', 'imdb_id', 'adult', 'original_title', 'vote_count', 'poster_path', 'homepage'], axis=1, inplace=True)"
   ]
  },
  {
   "cell_type": "code",
   "execution_count": 470,
   "metadata": {},
   "outputs": [
    {
     "data": {
      "text/plain": [
       "(45376, 20)"
      ]
     },
     "execution_count": 470,
     "metadata": {},
     "output_type": "execute_result"
    }
   ],
   "source": [
    "df.shape"
   ]
  },
  {
   "cell_type": "code",
   "execution_count": 472,
   "metadata": {},
   "outputs": [
    {
     "data": {
      "text/html": [
       "<div>\n",
       "<style scoped>\n",
       "    .dataframe tbody tr th:only-of-type {\n",
       "        vertical-align: middle;\n",
       "    }\n",
       "\n",
       "    .dataframe tbody tr th {\n",
       "        vertical-align: top;\n",
       "    }\n",
       "\n",
       "    .dataframe thead th {\n",
       "        text-align: right;\n",
       "    }\n",
       "</style>\n",
       "<table border=\"1\" class=\"dataframe\">\n",
       "  <thead>\n",
       "    <tr style=\"text-align: right;\">\n",
       "      <th></th>\n",
       "      <th>budget</th>\n",
       "      <th>id</th>\n",
       "      <th>original_language</th>\n",
       "      <th>overview</th>\n",
       "      <th>popularity</th>\n",
       "      <th>release_date</th>\n",
       "      <th>revenue</th>\n",
       "      <th>runtime</th>\n",
       "      <th>status</th>\n",
       "      <th>tagline</th>\n",
       "      <th>title</th>\n",
       "      <th>vote_average</th>\n",
       "      <th>id_collection</th>\n",
       "      <th>collection_name</th>\n",
       "      <th>genres</th>\n",
       "      <th>production_companies</th>\n",
       "      <th>spoken_languages</th>\n",
       "      <th>production_countries</th>\n",
       "      <th>release_year</th>\n",
       "      <th>return</th>\n",
       "    </tr>\n",
       "  </thead>\n",
       "  <tbody>\n",
       "    <tr>\n",
       "      <th>0</th>\n",
       "      <td>30000000.0</td>\n",
       "      <td>862</td>\n",
       "      <td>en</td>\n",
       "      <td>Led by Woody, Andy's toys live happily in his ...</td>\n",
       "      <td>21.946943</td>\n",
       "      <td>1995-10-30</td>\n",
       "      <td>373554033.0</td>\n",
       "      <td>81.0</td>\n",
       "      <td>Released</td>\n",
       "      <td>NaN</td>\n",
       "      <td>Toy Story</td>\n",
       "      <td>7.7</td>\n",
       "      <td>10194.0</td>\n",
       "      <td>Toy Story Collection</td>\n",
       "      <td>Animation, Comedy, Family</td>\n",
       "      <td>Pixar Animation Studios</td>\n",
       "      <td>en</td>\n",
       "      <td>US</td>\n",
       "      <td>1995</td>\n",
       "      <td>12.451801</td>\n",
       "    </tr>\n",
       "    <tr>\n",
       "      <th>1</th>\n",
       "      <td>65000000.0</td>\n",
       "      <td>8844</td>\n",
       "      <td>en</td>\n",
       "      <td>When siblings Judy and Peter discover an encha...</td>\n",
       "      <td>17.015539</td>\n",
       "      <td>1995-12-15</td>\n",
       "      <td>262797249.0</td>\n",
       "      <td>104.0</td>\n",
       "      <td>Released</td>\n",
       "      <td>Roll the dice and unleash the excitement!</td>\n",
       "      <td>Jumanji</td>\n",
       "      <td>6.9</td>\n",
       "      <td>NaN</td>\n",
       "      <td>NaN</td>\n",
       "      <td>Adventure, Fantasy, Family</td>\n",
       "      <td>TriStar Pictures, Teitler Film, Interscope Com...</td>\n",
       "      <td>en, fr</td>\n",
       "      <td>US</td>\n",
       "      <td>1995</td>\n",
       "      <td>4.043035</td>\n",
       "    </tr>\n",
       "    <tr>\n",
       "      <th>2</th>\n",
       "      <td>0.0</td>\n",
       "      <td>15602</td>\n",
       "      <td>en</td>\n",
       "      <td>A family wedding reignites the ancient feud be...</td>\n",
       "      <td>11.7129</td>\n",
       "      <td>1995-12-22</td>\n",
       "      <td>0.0</td>\n",
       "      <td>101.0</td>\n",
       "      <td>Released</td>\n",
       "      <td>Still Yelling. Still Fighting. Still Ready for...</td>\n",
       "      <td>Grumpier Old Men</td>\n",
       "      <td>6.5</td>\n",
       "      <td>119050.0</td>\n",
       "      <td>Grumpy Old Men Collection</td>\n",
       "      <td>Romance, Comedy</td>\n",
       "      <td>Warner Bros., Lancaster Gate</td>\n",
       "      <td>en</td>\n",
       "      <td>US</td>\n",
       "      <td>1995</td>\n",
       "      <td>0.000000</td>\n",
       "    </tr>\n",
       "    <tr>\n",
       "      <th>3</th>\n",
       "      <td>16000000.0</td>\n",
       "      <td>31357</td>\n",
       "      <td>en</td>\n",
       "      <td>Cheated on, mistreated and stepped on, the wom...</td>\n",
       "      <td>3.859495</td>\n",
       "      <td>1995-12-22</td>\n",
       "      <td>81452156.0</td>\n",
       "      <td>127.0</td>\n",
       "      <td>Released</td>\n",
       "      <td>Friends are the people who let you be yourself...</td>\n",
       "      <td>Waiting to Exhale</td>\n",
       "      <td>6.1</td>\n",
       "      <td>NaN</td>\n",
       "      <td>NaN</td>\n",
       "      <td>Comedy, Drama, Romance</td>\n",
       "      <td>Twentieth Century Fox Film Corporation</td>\n",
       "      <td>en</td>\n",
       "      <td>US</td>\n",
       "      <td>1995</td>\n",
       "      <td>5.090760</td>\n",
       "    </tr>\n",
       "    <tr>\n",
       "      <th>4</th>\n",
       "      <td>0.0</td>\n",
       "      <td>11862</td>\n",
       "      <td>en</td>\n",
       "      <td>Just when George Banks has recovered from his ...</td>\n",
       "      <td>8.387519</td>\n",
       "      <td>1995-02-10</td>\n",
       "      <td>76578911.0</td>\n",
       "      <td>106.0</td>\n",
       "      <td>Released</td>\n",
       "      <td>Just When His World Is Back To Normal... He's ...</td>\n",
       "      <td>Father of the Bride Part II</td>\n",
       "      <td>5.7</td>\n",
       "      <td>96871.0</td>\n",
       "      <td>Father of the Bride Collection</td>\n",
       "      <td>Comedy</td>\n",
       "      <td>Sandollar Productions, Touchstone Pictures</td>\n",
       "      <td>en</td>\n",
       "      <td>US</td>\n",
       "      <td>1995</td>\n",
       "      <td>0.000000</td>\n",
       "    </tr>\n",
       "  </tbody>\n",
       "</table>\n",
       "</div>"
      ],
      "text/plain": [
       "       budget     id original_language  \\\n",
       "0  30000000.0    862                en   \n",
       "1  65000000.0   8844                en   \n",
       "2         0.0  15602                en   \n",
       "3  16000000.0  31357                en   \n",
       "4         0.0  11862                en   \n",
       "\n",
       "                                            overview popularity release_date  \\\n",
       "0  Led by Woody, Andy's toys live happily in his ...  21.946943   1995-10-30   \n",
       "1  When siblings Judy and Peter discover an encha...  17.015539   1995-12-15   \n",
       "2  A family wedding reignites the ancient feud be...    11.7129   1995-12-22   \n",
       "3  Cheated on, mistreated and stepped on, the wom...   3.859495   1995-12-22   \n",
       "4  Just when George Banks has recovered from his ...   8.387519   1995-02-10   \n",
       "\n",
       "       revenue  runtime    status  \\\n",
       "0  373554033.0     81.0  Released   \n",
       "1  262797249.0    104.0  Released   \n",
       "2          0.0    101.0  Released   \n",
       "3   81452156.0    127.0  Released   \n",
       "4   76578911.0    106.0  Released   \n",
       "\n",
       "                                             tagline  \\\n",
       "0                                                NaN   \n",
       "1          Roll the dice and unleash the excitement!   \n",
       "2  Still Yelling. Still Fighting. Still Ready for...   \n",
       "3  Friends are the people who let you be yourself...   \n",
       "4  Just When His World Is Back To Normal... He's ...   \n",
       "\n",
       "                         title  vote_average  id_collection  \\\n",
       "0                    Toy Story           7.7        10194.0   \n",
       "1                      Jumanji           6.9            NaN   \n",
       "2             Grumpier Old Men           6.5       119050.0   \n",
       "3            Waiting to Exhale           6.1            NaN   \n",
       "4  Father of the Bride Part II           5.7        96871.0   \n",
       "\n",
       "                  collection_name                      genres  \\\n",
       "0            Toy Story Collection   Animation, Comedy, Family   \n",
       "1                             NaN  Adventure, Fantasy, Family   \n",
       "2       Grumpy Old Men Collection             Romance, Comedy   \n",
       "3                             NaN      Comedy, Drama, Romance   \n",
       "4  Father of the Bride Collection                      Comedy   \n",
       "\n",
       "                                production_companies spoken_languages  \\\n",
       "0                            Pixar Animation Studios               en   \n",
       "1  TriStar Pictures, Teitler Film, Interscope Com...           en, fr   \n",
       "2                       Warner Bros., Lancaster Gate               en   \n",
       "3             Twentieth Century Fox Film Corporation               en   \n",
       "4         Sandollar Productions, Touchstone Pictures               en   \n",
       "\n",
       "  production_countries release_year     return  \n",
       "0                   US         1995  12.451801  \n",
       "1                   US         1995   4.043035  \n",
       "2                   US         1995   0.000000  \n",
       "3                   US         1995   5.090760  \n",
       "4                   US         1995   0.000000  "
      ]
     },
     "execution_count": 472,
     "metadata": {},
     "output_type": "execute_result"
    }
   ],
   "source": [
    "df.head(5)"
   ]
  },
  {
   "attachments": {},
   "cell_type": "markdown",
   "metadata": {},
   "source": [
    "# Desarrollo API"
   ]
  },
  {
   "attachments": {},
   "cell_type": "markdown",
   "metadata": {},
   "source": [
    "#### FUNCTION 1"
   ]
  },
  {
   "attachments": {},
   "cell_type": "markdown",
   "metadata": {},
   "source": [
    "<span style=\"color:orange\">def peliculas_mes(mes): '''Se ingresa el mes y la funcion retorna la cantidad de peliculas que se estrenaron ese mes (nombre del mes, en str, ejemplo 'enero') historicamente''' return {'mes':mes, 'cantidad':respuesta}</span>"
   ]
  },
  {
   "cell_type": "code",
   "execution_count": 478,
   "metadata": {},
   "outputs": [],
   "source": [
    "# Convert whole df to string\n",
    "df = df.astype(str)"
   ]
  },
  {
   "cell_type": "code",
   "execution_count": 481,
   "metadata": {},
   "outputs": [],
   "source": [
    "# Remove .0 from string values\n",
    "df['id_collection'] = df['id_collection'].astype(str).str.replace('\\.0$', '', regex=True)"
   ]
  },
  {
   "cell_type": "code",
   "execution_count": 483,
   "metadata": {},
   "outputs": [],
   "source": [
    "# Replace 'nan' strings with NaN values\n",
    "df.replace('nan', np.NaN, inplace=True)"
   ]
  },
  {
   "cell_type": "code",
   "execution_count": 485,
   "metadata": {},
   "outputs": [],
   "source": [
    "# Date\n",
    "df['release_date'] = df['release_date'].fillna('')"
   ]
  },
  {
   "cell_type": "code",
   "execution_count": 489,
   "metadata": {},
   "outputs": [],
   "source": [
    "df['month'] = df['release_date'].apply(lambda x: datetime.strptime(x, '%Y-%m-%d').strftime('%B') if x else '')"
   ]
  },
  {
   "cell_type": "code",
   "execution_count": 513,
   "metadata": {},
   "outputs": [],
   "source": [
    "# Lowercase whole df\n",
    "df = df.applymap(lambda x: x.lower() if isinstance(x, str) else x)"
   ]
  },
  {
   "cell_type": "code",
   "execution_count": 504,
   "metadata": {},
   "outputs": [],
   "source": [
    "def peliculas_mes(mes: str): \n",
    "    '''Se ingresa el mes y la funcion retorna la cantidad de peliculas que se estrenaron ese mes (nombre del mes, en str, ejemplo 'enero') historicamente''' \n",
    "    \n",
    "    respuesta = df['month'].str.contains(mes).sum()\n",
    "    return {'mes':mes, 'cantidad':respuesta}"
   ]
  },
  {
   "cell_type": "code",
   "execution_count": 506,
   "metadata": {},
   "outputs": [
    {
     "data": {
      "text/plain": [
       "{'mes': 'december', 'cantidad': 3786}"
      ]
     },
     "execution_count": 506,
     "metadata": {},
     "output_type": "execute_result"
    }
   ],
   "source": [
    "peliculas_mes('december')"
   ]
  },
  {
   "attachments": {},
   "cell_type": "markdown",
   "metadata": {},
   "source": [
    "#### FUNCTION 2"
   ]
  },
  {
   "attachments": {},
   "cell_type": "markdown",
   "metadata": {},
   "source": [
    "<span style=\"color:orange\">def peliculas_dia(dia): '''Se ingresa el dia y la funcion retorna la cantidad de peliculas que se estrenaron ese dia (de la semana, en str, ejemplo 'lunes') historicamente''' return {'dia':dia, 'cantidad':respuesta}</span>"
   ]
  },
  {
   "cell_type": "code",
   "execution_count": 511,
   "metadata": {},
   "outputs": [],
   "source": [
    "def get_day_name(date_str):\n",
    "    if isinstance(date_str, str):\n",
    "        date_obj = datetime.datetime.strptime(date_str, '%Y-%m-%d')\n",
    "        return date_obj.strftime('%A')\n",
    "    else:\n",
    "        return None\n",
    "\n",
    "df['day'] = df['release_date'].apply(get_day_name)"
   ]
  },
  {
   "cell_type": "code",
   "execution_count": 514,
   "metadata": {},
   "outputs": [],
   "source": [
    "# Lowercase whole df\n",
    "df = df.applymap(lambda x: x.lower() if isinstance(x, str) else x)"
   ]
  },
  {
   "cell_type": "code",
   "execution_count": 522,
   "metadata": {},
   "outputs": [
    {
     "data": {
      "text/plain": [
       "3613"
      ]
     },
     "execution_count": 522,
     "metadata": {},
     "output_type": "execute_result"
    }
   ],
   "source": [
    "day = 'sunday'\n",
    "respuesta = df['day'].str.contains(day).sum()\n",
    "respuesta"
   ]
  },
  {
   "cell_type": "code",
   "execution_count": 523,
   "metadata": {},
   "outputs": [],
   "source": [
    "def peliculas_dia(dia: str): \n",
    "    '''Se ingresa el dia y la funcion retorna la cantidad de peliculas que se estrenaron ese dia (de la semana, en str, ejemplo 'lunes') historicamente''' \n",
    "    \n",
    "    respuesta = df['day'].str.contains(dia).sum()\n",
    "    return {'dia':dia, 'cantidad':respuesta}"
   ]
  },
  {
   "cell_type": "code",
   "execution_count": 525,
   "metadata": {},
   "outputs": [
    {
     "data": {
      "text/plain": [
       "{'dia': 'sunday', 'cantidad': 3613}"
      ]
     },
     "execution_count": 525,
     "metadata": {},
     "output_type": "execute_result"
    }
   ],
   "source": [
    "peliculas_dia('sunday')"
   ]
  },
  {
   "attachments": {},
   "cell_type": "markdown",
   "metadata": {},
   "source": [
    "### FUNCTION 3"
   ]
  },
  {
   "attachments": {},
   "cell_type": "markdown",
   "metadata": {},
   "source": [
    "<span style=\"color:orange\">def franquicia(franquicia): '''Se ingresa la franquicia, retornando la cantidad de peliculas, ganancia total y promedio''' return {'franquicia':franquicia, 'cantidad':respuesta, 'ganancia_total':respuesta, 'ganancia_promedio':respuesta}</span>"
   ]
  },
  {
   "cell_type": "code",
   "execution_count": 541,
   "metadata": {},
   "outputs": [
    {
     "data": {
      "text/plain": [
       "Index(['budget', 'id', 'original_language', 'overview', 'popularity',\n",
       "       'release_date', 'revenue', 'runtime', 'status', 'tagline', 'title',\n",
       "       'vote_average', 'id_collection', 'collection_name', 'genres',\n",
       "       'production_companies', 'spoken_languages', 'production_countries',\n",
       "       'release_year', 'return', 'month', 'day'],\n",
       "      dtype='object')"
      ]
     },
     "execution_count": 541,
     "metadata": {},
     "output_type": "execute_result"
    }
   ],
   "source": [
    "df.columns"
   ]
  },
  {
   "cell_type": "code",
   "execution_count": 542,
   "metadata": {},
   "outputs": [],
   "source": [
    "# Remove .0 from string values\n",
    "df['revenue'] = df['revenue'].astype(str).str.replace('\\.0$', '', regex=True)"
   ]
  },
  {
   "cell_type": "code",
   "execution_count": 543,
   "metadata": {},
   "outputs": [],
   "source": [
    "# Remove .0 from string values\n",
    "df['runtime'] = df['runtime'].astype(str).str.replace('\\.0$', '', regex=True)"
   ]
  },
  {
   "cell_type": "code",
   "execution_count": 547,
   "metadata": {},
   "outputs": [],
   "source": [
    "# Remove .0 from string values\n",
    "df['budget'] = df['budget'].astype(str).str.replace('\\.0$', '', regex=True)"
   ]
  },
  {
   "cell_type": "code",
   "execution_count": 551,
   "metadata": {},
   "outputs": [],
   "source": [
    "# Convert columns to numeric\n",
    "df[['budget', 'id', 'popularity', 'revenue', 'runtime', 'vote_average', 'id_collection', 'release_year', 'return']] = df[['budget', 'id', 'popularity', 'revenue', 'runtime', 'vote_average', 'id_collection', 'release_year', 'return']].apply(pd.to_numeric, errors='coerce')\n"
   ]
  },
  {
   "cell_type": "code",
   "execution_count": 568,
   "metadata": {},
   "outputs": [
    {
     "name": "stdout",
     "output_type": "stream",
     "text": [
      "Quantity of films: 2\n",
      "Total revenue: 173572781\n",
      "Average revenue: 86786390.5\n"
     ]
    }
   ],
   "source": [
    "collection = 'mortal kombat collection'\n",
    "\n",
    "quantity_films = df['collection_name'].str.contains(collection).sum()\n",
    "subset = df[df['collection_name'] == collection]\n",
    "total_revenue = subset['revenue'].sum()\n",
    "average_revenue = total_revenue / quantity_films\n",
    "\n",
    "print(f'Quantity of films: {quantity_films}')\n",
    "print(f'Total revenue: {total_revenue}')\n",
    "print(f'Average revenue: {average_revenue}')"
   ]
  },
  {
   "cell_type": "code",
   "execution_count": 567,
   "metadata": {},
   "outputs": [
    {
     "data": {
      "text/html": [
       "<div>\n",
       "<style scoped>\n",
       "    .dataframe tbody tr th:only-of-type {\n",
       "        vertical-align: middle;\n",
       "    }\n",
       "\n",
       "    .dataframe tbody tr th {\n",
       "        vertical-align: top;\n",
       "    }\n",
       "\n",
       "    .dataframe thead th {\n",
       "        text-align: right;\n",
       "    }\n",
       "</style>\n",
       "<table border=\"1\" class=\"dataframe\">\n",
       "  <thead>\n",
       "    <tr style=\"text-align: right;\">\n",
       "      <th></th>\n",
       "      <th>budget</th>\n",
       "      <th>id</th>\n",
       "      <th>original_language</th>\n",
       "      <th>overview</th>\n",
       "      <th>popularity</th>\n",
       "      <th>release_date</th>\n",
       "      <th>revenue</th>\n",
       "      <th>runtime</th>\n",
       "      <th>status</th>\n",
       "      <th>tagline</th>\n",
       "      <th>...</th>\n",
       "      <th>id_collection</th>\n",
       "      <th>collection_name</th>\n",
       "      <th>genres</th>\n",
       "      <th>production_companies</th>\n",
       "      <th>spoken_languages</th>\n",
       "      <th>production_countries</th>\n",
       "      <th>release_year</th>\n",
       "      <th>return</th>\n",
       "      <th>month</th>\n",
       "      <th>day</th>\n",
       "    </tr>\n",
       "  </thead>\n",
       "  <tbody>\n",
       "    <tr>\n",
       "      <th>43</th>\n",
       "      <td>18000000</td>\n",
       "      <td>9312</td>\n",
       "      <td>en</td>\n",
       "      <td>for nine generations an evil sorcerer has been...</td>\n",
       "      <td>10.870138</td>\n",
       "      <td>1995-08-18</td>\n",
       "      <td>122195920</td>\n",
       "      <td>101.0</td>\n",
       "      <td>released</td>\n",
       "      <td>nothing in this world has prepared you for this.</td>\n",
       "      <td>...</td>\n",
       "      <td>9818.0</td>\n",
       "      <td>mortal kombat collection</td>\n",
       "      <td>action, fantasy</td>\n",
       "      <td>new line cinema, threshold entertainment</td>\n",
       "      <td>en</td>\n",
       "      <td>us</td>\n",
       "      <td>1995</td>\n",
       "      <td>6.788662</td>\n",
       "      <td>august</td>\n",
       "      <td>friday</td>\n",
       "    </tr>\n",
       "    <tr>\n",
       "      <th>1603</th>\n",
       "      <td>30000000</td>\n",
       "      <td>9823</td>\n",
       "      <td>en</td>\n",
       "      <td>a group of heroic warriors has only six days t...</td>\n",
       "      <td>6.532498</td>\n",
       "      <td>1997-11-21</td>\n",
       "      <td>51376861</td>\n",
       "      <td>95.0</td>\n",
       "      <td>released</td>\n",
       "      <td>the world was created in six days, so too shal...</td>\n",
       "      <td>...</td>\n",
       "      <td>9818.0</td>\n",
       "      <td>mortal kombat collection</td>\n",
       "      <td>action, fantasy, science fiction</td>\n",
       "      <td>new line cinema, threshold entertainment</td>\n",
       "      <td>en</td>\n",
       "      <td>us</td>\n",
       "      <td>1997</td>\n",
       "      <td>1.712562</td>\n",
       "      <td>november</td>\n",
       "      <td>friday</td>\n",
       "    </tr>\n",
       "  </tbody>\n",
       "</table>\n",
       "<p>2 rows × 22 columns</p>\n",
       "</div>"
      ],
      "text/plain": [
       "        budget    id original_language  \\\n",
       "43    18000000  9312                en   \n",
       "1603  30000000  9823                en   \n",
       "\n",
       "                                               overview  popularity  \\\n",
       "43    for nine generations an evil sorcerer has been...   10.870138   \n",
       "1603  a group of heroic warriors has only six days t...    6.532498   \n",
       "\n",
       "     release_date    revenue  runtime    status  \\\n",
       "43     1995-08-18  122195920    101.0  released   \n",
       "1603   1997-11-21   51376861     95.0  released   \n",
       "\n",
       "                                                tagline  ... id_collection  \\\n",
       "43     nothing in this world has prepared you for this.  ...        9818.0   \n",
       "1603  the world was created in six days, so too shal...  ...        9818.0   \n",
       "\n",
       "               collection_name                            genres  \\\n",
       "43    mortal kombat collection                   action, fantasy   \n",
       "1603  mortal kombat collection  action, fantasy, science fiction   \n",
       "\n",
       "                          production_companies spoken_languages  \\\n",
       "43    new line cinema, threshold entertainment               en   \n",
       "1603  new line cinema, threshold entertainment               en   \n",
       "\n",
       "     production_countries release_year    return     month     day  \n",
       "43                     us         1995  6.788662    august  friday  \n",
       "1603                   us         1997  1.712562  november  friday  \n",
       "\n",
       "[2 rows x 22 columns]"
      ]
     },
     "execution_count": 567,
     "metadata": {},
     "output_type": "execute_result"
    }
   ],
   "source": [
    "subset"
   ]
  },
  {
   "cell_type": "code",
   "execution_count": 569,
   "metadata": {},
   "outputs": [],
   "source": [
    "def franquicia(franquicia: str): \n",
    "    '''Se ingresa la franquicia, retornando la cantidad de peliculas, ganancia total y promedio''' \n",
    "\n",
    "    quantity_films = df['collection_name'].str.contains(franquicia).sum()\n",
    "    subset = df[df['collection_name'] == franquicia]\n",
    "    total_revenue = subset['revenue'].sum()\n",
    "    average_revenue = total_revenue / quantity_films\n",
    "\n",
    "    return {'franquicia':franquicia, 'cantidad':quantity_films, 'ganancia_total':total_revenue, 'ganancia_promedio':average_revenue}"
   ]
  },
  {
   "cell_type": "code",
   "execution_count": 570,
   "metadata": {},
   "outputs": [
    {
     "data": {
      "text/plain": [
       "{'franquicia': 'mortal kombat collection',\n",
       " 'cantidad': 2,\n",
       " 'ganancia_total': 173572781,\n",
       " 'ganancia_promedio': 86786390.5}"
      ]
     },
     "execution_count": 570,
     "metadata": {},
     "output_type": "execute_result"
    }
   ],
   "source": [
    "franquicia('mortal kombat collection')"
   ]
  },
  {
   "attachments": {},
   "cell_type": "markdown",
   "metadata": {},
   "source": [
    "### FUNCTION 4"
   ]
  },
  {
   "attachments": {},
   "cell_type": "markdown",
   "metadata": {},
   "source": [
    "<span style=\"color:orange\">def peliculas_pais(pais): '''Ingresas el pais, retornando la cantidad de peliculas producidas en el mismo''' return {'pais':pais, 'cantidad':respuesta}</span>"
   ]
  },
  {
   "cell_type": "code",
   "execution_count": 577,
   "metadata": {},
   "outputs": [
    {
     "name": "stdout",
     "output_type": "stream",
     "text": [
      "Quantity of films: 4091\n"
     ]
    }
   ],
   "source": [
    "country = 'gb'\n",
    "\n",
    "quantity_films = df['production_countries'].str.contains(country).sum()\n",
    "subset = df[df['production_countries'] == country]\n",
    "\n",
    "print(f'Quantity of films: {quantity_films}')"
   ]
  },
  {
   "cell_type": "code",
   "execution_count": 578,
   "metadata": {},
   "outputs": [],
   "source": [
    "def peliculas_pais(pais: str): \n",
    "    '''Ingresas el pais, retornando la cantidad de peliculas producidas en el mismo''' \n",
    "\n",
    "    quantity_films = df['production_countries'].str.contains(pais).sum()\n",
    "\n",
    "    return {'pais':pais, 'cantidad':quantity_films}"
   ]
  },
  {
   "cell_type": "code",
   "execution_count": 579,
   "metadata": {},
   "outputs": [
    {
     "data": {
      "text/plain": [
       "{'pais': 'gb', 'cantidad': 4091}"
      ]
     },
     "execution_count": 579,
     "metadata": {},
     "output_type": "execute_result"
    }
   ],
   "source": [
    "peliculas_pais('gb')"
   ]
  },
  {
   "attachments": {},
   "cell_type": "markdown",
   "metadata": {},
   "source": [
    "### FUNCTION 5"
   ]
  },
  {
   "attachments": {},
   "cell_type": "markdown",
   "metadata": {},
   "source": [
    "<span style=\"color:orange\">def productoras(productora): '''Ingresas la productora, retornando la ganancia total y la cantidad de peliculas que produjeron''' return {'productora':productora, 'ganancia_total':respuesta, 'cantidad':respuesta}</span>"
   ]
  },
  {
   "cell_type": "code",
   "execution_count": 614,
   "metadata": {},
   "outputs": [
    {
     "name": "stdout",
     "output_type": "stream",
     "text": [
      "Quantity of films: 863\n",
      "Total revenue: 55420412907\n",
      "Average revenue: 64218323.18308227\n"
     ]
    }
   ],
   "source": [
    "producer = 'universal pictures'\n",
    "\n",
    "quantity_films = df['production_companies'].str.contains(producer).sum()\n",
    "subset = df[df['production_companies'].str.contains(producer)]\n",
    "total_revenue = subset['revenue'].sum()\n",
    "average_revenue = total_revenue / quantity_films\n",
    "\n",
    "print(f'Quantity of films: {quantity_films}')\n",
    "print(f'Total revenue: {total_revenue}')\n",
    "print(f'Average revenue: {average_revenue}')"
   ]
  },
  {
   "cell_type": "code",
   "execution_count": 616,
   "metadata": {},
   "outputs": [],
   "source": [
    "def productoras(productora: str): \n",
    "    '''Ingresas la productora, retornando la ganancia total y la cantidad de peliculas que produjeron''' \n",
    "\n",
    "    quantity_films = df['production_companies'].str.contains(productora).sum()\n",
    "    subset = df[df['production_companies'].str.contains(productora)]\n",
    "    total_revenue = subset['revenue'].sum()\n",
    "\n",
    "    return {'productora':productora, 'ganancia_total':total_revenue, 'cantidad':quantity_films}"
   ]
  },
  {
   "cell_type": "code",
   "execution_count": 617,
   "metadata": {},
   "outputs": [
    {
     "data": {
      "text/plain": [
       "{'productora': 'universal pictures',\n",
       " 'ganancia_total': 55420412907,\n",
       " 'cantidad': 863}"
      ]
     },
     "execution_count": 617,
     "metadata": {},
     "output_type": "execute_result"
    }
   ],
   "source": [
    "productoras('universal pictures')"
   ]
  },
  {
   "attachments": {},
   "cell_type": "markdown",
   "metadata": {},
   "source": [
    "### FUNCTION 6"
   ]
  },
  {
   "attachments": {},
   "cell_type": "markdown",
   "metadata": {},
   "source": [
    "<span style=\"color:orange\">def retorno(pelicula): '''Ingresas la pelicula, retornando la inversion, la ganancia, el retorno y el año en el que se lanzo''' return {'pelicula':pelicula, 'inversion':respuesta, 'ganacia':respuesta,'retorno':respuesta, 'anio':respuesta}</span>"
   ]
  },
  {
   "cell_type": "code",
   "execution_count": 658,
   "metadata": {},
   "outputs": [
    {
     "data": {
      "text/html": [
       "<div>\n",
       "<style scoped>\n",
       "    .dataframe tbody tr th:only-of-type {\n",
       "        vertical-align: middle;\n",
       "    }\n",
       "\n",
       "    .dataframe tbody tr th {\n",
       "        vertical-align: top;\n",
       "    }\n",
       "\n",
       "    .dataframe thead th {\n",
       "        text-align: right;\n",
       "    }\n",
       "</style>\n",
       "<table border=\"1\" class=\"dataframe\">\n",
       "  <thead>\n",
       "    <tr style=\"text-align: right;\">\n",
       "      <th></th>\n",
       "      <th>id</th>\n",
       "      <th>title</th>\n",
       "      <th>original_language</th>\n",
       "      <th>overview</th>\n",
       "      <th>popularity</th>\n",
       "      <th>release_date</th>\n",
       "      <th>budget</th>\n",
       "      <th>revenue</th>\n",
       "      <th>runtime</th>\n",
       "      <th>status</th>\n",
       "      <th>...</th>\n",
       "      <th>id_collection</th>\n",
       "      <th>collection_name</th>\n",
       "      <th>genres</th>\n",
       "      <th>production_companies</th>\n",
       "      <th>spoken_languages</th>\n",
       "      <th>production_countries</th>\n",
       "      <th>release_year</th>\n",
       "      <th>return</th>\n",
       "      <th>month</th>\n",
       "      <th>day</th>\n",
       "    </tr>\n",
       "  </thead>\n",
       "  <tbody>\n",
       "    <tr>\n",
       "      <th>22879</th>\n",
       "      <td>157336</td>\n",
       "      <td>interstellar</td>\n",
       "      <td>en</td>\n",
       "      <td>interstellar chronicles the adventures of a gr...</td>\n",
       "      <td>32.213481</td>\n",
       "      <td>2014-11-05</td>\n",
       "      <td>165000000</td>\n",
       "      <td>675120017</td>\n",
       "      <td>169.0</td>\n",
       "      <td>released</td>\n",
       "      <td>...</td>\n",
       "      <td>NaN</td>\n",
       "      <td>NaN</td>\n",
       "      <td>adventure, drama, science fiction</td>\n",
       "      <td>paramount pictures, legendary pictures, warner...</td>\n",
       "      <td>en</td>\n",
       "      <td>ca, us, gb</td>\n",
       "      <td>2014</td>\n",
       "      <td>4.091636</td>\n",
       "      <td>november</td>\n",
       "      <td>wednesday</td>\n",
       "    </tr>\n",
       "  </tbody>\n",
       "</table>\n",
       "<p>1 rows × 22 columns</p>\n",
       "</div>"
      ],
      "text/plain": [
       "           id         title original_language  \\\n",
       "22879  157336  interstellar                en   \n",
       "\n",
       "                                                overview  popularity  \\\n",
       "22879  interstellar chronicles the adventures of a gr...   32.213481   \n",
       "\n",
       "      release_date     budget    revenue  runtime    status  ...  \\\n",
       "22879   2014-11-05  165000000  675120017    169.0  released  ...   \n",
       "\n",
       "      id_collection  collection_name                             genres  \\\n",
       "22879           NaN              NaN  adventure, drama, science fiction   \n",
       "\n",
       "                                    production_companies spoken_languages  \\\n",
       "22879  paramount pictures, legendary pictures, warner...               en   \n",
       "\n",
       "      production_countries release_year    return     month        day  \n",
       "22879           ca, us, gb         2014  4.091636  november  wednesday  \n",
       "\n",
       "[1 rows x 22 columns]"
      ]
     },
     "execution_count": 658,
     "metadata": {},
     "output_type": "execute_result"
    }
   ],
   "source": [
    "film = 'interstellar'\n",
    "\n",
    "year =      df[df['title'] == film]['release_year'].iloc[0]\n",
    "budget =    df[df['title'] == film]['budget'].iloc[0]\n",
    "revenue =   df[df['title'] == film]['revenue'].iloc[0]\n",
    "return_ =   df[df['title'] == film]['return'].iloc[0]\n",
    "\n",
    "df[df['title'] == film]"
   ]
  },
  {
   "cell_type": "code",
   "execution_count": 659,
   "metadata": {},
   "outputs": [
    {
     "name": "stdout",
     "output_type": "stream",
     "text": [
      "Movie: interstellar\n",
      "Year: 2014\n",
      "Budget: 165000000\n",
      "Revenue: 675120017\n",
      "Return: 4.0916364666666665\n"
     ]
    }
   ],
   "source": [
    "print(f'Movie: {film}')\n",
    "print(f'Year: {year}')\n",
    "print(f'Budget: {budget}')\n",
    "print(f'Revenue: {revenue}')\n",
    "print(f'Return: {return_}')"
   ]
  },
  {
   "cell_type": "code",
   "execution_count": 713,
   "metadata": {},
   "outputs": [],
   "source": [
    "def retorno(pelicula: str): \n",
    "    '''Ingresas la pelicula, retornando la inversion, la ganancia, el retorno y el año en el que se lanzo''' \n",
    "\n",
    "    year =      df[df['title'] == pelicula]['release_year'].iloc[0]\n",
    "    budget =    df[df['title'] == pelicula]['budget'].iloc[0]\n",
    "    revenue =   df[df['title'] == pelicula]['revenue'].iloc[0]\n",
    "    return_ =   df[df['title'] == pelicula]['return'].iloc[0]\n",
    "\n",
    "    return {'pelicula':pelicula, 'inversion':budget, 'ganacia':revenue,'retorno':return_, 'anio':year}"
   ]
  },
  {
   "cell_type": "code",
   "execution_count": 714,
   "metadata": {},
   "outputs": [
    {
     "data": {
      "text/plain": [
       "{'pelicula': 'interstellar',\n",
       " 'inversion': 165000000.0,\n",
       " 'ganacia': 675120017.0,\n",
       " 'retorno': 4.09,\n",
       " 'anio': 2014}"
      ]
     },
     "execution_count": 714,
     "metadata": {},
     "output_type": "execute_result"
    }
   ],
   "source": [
    "retorno('interstellar')"
   ]
  },
  {
   "attachments": {},
   "cell_type": "markdown",
   "metadata": {},
   "source": [
    "### OTHER TRANSFORMATIONS"
   ]
  },
  {
   "cell_type": "code",
   "execution_count": 665,
   "metadata": {},
   "outputs": [],
   "source": [
    "df['return'] = df['return'].apply(lambda x: round(x, 2))"
   ]
  },
  {
   "cell_type": "code",
   "execution_count": 624,
   "metadata": {},
   "outputs": [],
   "source": [
    "# Reorder columns\n",
    "new_order = ['id', 'title', 'original_language', 'overview', 'popularity', 'release_date', 'budget', 'revenue', 'runtime', 'status', 'tagline', 'vote_average', 'id_collection', 'collection_name', 'genres', 'production_companies', 'spoken_languages', 'production_countries', 'release_year', 'return', 'month', 'day']\n",
    "df = df.reindex(columns=new_order)\n"
   ]
  },
  {
   "cell_type": "code",
   "execution_count": 670,
   "metadata": {},
   "outputs": [],
   "source": [
    "df['production_companies'] = df['production_companies'].replace('', np.nan)\n",
    "df['spoken_languages'] = df['spoken_languages'].replace('', np.nan)\n",
    "df['production_countries'] = df['production_countries'].replace('', np.nan)"
   ]
  },
  {
   "cell_type": "code",
   "execution_count": 672,
   "metadata": {},
   "outputs": [
    {
     "data": {
      "text/html": [
       "<div>\n",
       "<style scoped>\n",
       "    .dataframe tbody tr th:only-of-type {\n",
       "        vertical-align: middle;\n",
       "    }\n",
       "\n",
       "    .dataframe tbody tr th {\n",
       "        vertical-align: top;\n",
       "    }\n",
       "\n",
       "    .dataframe thead th {\n",
       "        text-align: right;\n",
       "    }\n",
       "</style>\n",
       "<table border=\"1\" class=\"dataframe\">\n",
       "  <thead>\n",
       "    <tr style=\"text-align: right;\">\n",
       "      <th></th>\n",
       "      <th>id</th>\n",
       "      <th>title</th>\n",
       "      <th>original_language</th>\n",
       "      <th>overview</th>\n",
       "      <th>popularity</th>\n",
       "      <th>release_date</th>\n",
       "      <th>budget</th>\n",
       "      <th>revenue</th>\n",
       "      <th>runtime</th>\n",
       "      <th>status</th>\n",
       "      <th>...</th>\n",
       "      <th>id_collection</th>\n",
       "      <th>collection_name</th>\n",
       "      <th>genres</th>\n",
       "      <th>production_companies</th>\n",
       "      <th>spoken_languages</th>\n",
       "      <th>production_countries</th>\n",
       "      <th>release_year</th>\n",
       "      <th>return</th>\n",
       "      <th>month</th>\n",
       "      <th>day</th>\n",
       "    </tr>\n",
       "  </thead>\n",
       "  <tbody>\n",
       "    <tr>\n",
       "      <th>100</th>\n",
       "      <td>47475</td>\n",
       "      <td>mr. wrong</td>\n",
       "      <td>en</td>\n",
       "      <td>a single and lonely woman finds the seemingly ...</td>\n",
       "      <td>3.329264</td>\n",
       "      <td>1996-02-16</td>\n",
       "      <td>0</td>\n",
       "      <td>0</td>\n",
       "      <td>96.0</td>\n",
       "      <td>released</td>\n",
       "      <td>...</td>\n",
       "      <td>NaN</td>\n",
       "      <td>NaN</td>\n",
       "      <td>comedy, romance</td>\n",
       "      <td>touchstone pictures</td>\n",
       "      <td>en</td>\n",
       "      <td>us</td>\n",
       "      <td>1996</td>\n",
       "      <td>0.00</td>\n",
       "      <td>february</td>\n",
       "      <td>friday</td>\n",
       "    </tr>\n",
       "    <tr>\n",
       "      <th>101</th>\n",
       "      <td>2045</td>\n",
       "      <td>unforgettable</td>\n",
       "      <td>en</td>\n",
       "      <td>ray liotta stars as a medical examiner who has...</td>\n",
       "      <td>2.464425</td>\n",
       "      <td>1996-02-23</td>\n",
       "      <td>18000000</td>\n",
       "      <td>0</td>\n",
       "      <td>106.0</td>\n",
       "      <td>released</td>\n",
       "      <td>...</td>\n",
       "      <td>NaN</td>\n",
       "      <td>NaN</td>\n",
       "      <td>drama, mystery, science fiction, thriller</td>\n",
       "      <td>metro-goldwyn-mayer (mgm), dino de laurentiis ...</td>\n",
       "      <td>en</td>\n",
       "      <td>us</td>\n",
       "      <td>1996</td>\n",
       "      <td>0.00</td>\n",
       "      <td>february</td>\n",
       "      <td>friday</td>\n",
       "    </tr>\n",
       "    <tr>\n",
       "      <th>102</th>\n",
       "      <td>9614</td>\n",
       "      <td>happy gilmore</td>\n",
       "      <td>en</td>\n",
       "      <td>failed hockey player-turned-golf whiz happy gi...</td>\n",
       "      <td>9.592265</td>\n",
       "      <td>1996-02-16</td>\n",
       "      <td>12000000</td>\n",
       "      <td>41205099</td>\n",
       "      <td>92.0</td>\n",
       "      <td>released</td>\n",
       "      <td>...</td>\n",
       "      <td>NaN</td>\n",
       "      <td>NaN</td>\n",
       "      <td>comedy</td>\n",
       "      <td>universal pictures, brillstein-grey entertainm...</td>\n",
       "      <td>en</td>\n",
       "      <td>us</td>\n",
       "      <td>1996</td>\n",
       "      <td>3.43</td>\n",
       "      <td>february</td>\n",
       "      <td>friday</td>\n",
       "    </tr>\n",
       "    <tr>\n",
       "      <th>103</th>\n",
       "      <td>688</td>\n",
       "      <td>the bridges of madison county</td>\n",
       "      <td>en</td>\n",
       "      <td>photographer robert kincaid wanders into the l...</td>\n",
       "      <td>5.951077</td>\n",
       "      <td>1995-05-28</td>\n",
       "      <td>24000000</td>\n",
       "      <td>182016617</td>\n",
       "      <td>135.0</td>\n",
       "      <td>released</td>\n",
       "      <td>...</td>\n",
       "      <td>NaN</td>\n",
       "      <td>NaN</td>\n",
       "      <td>drama, romance</td>\n",
       "      <td>amblin entertainment, malpaso productions, war...</td>\n",
       "      <td>en</td>\n",
       "      <td>us</td>\n",
       "      <td>1995</td>\n",
       "      <td>7.58</td>\n",
       "      <td>may</td>\n",
       "      <td>sunday</td>\n",
       "    </tr>\n",
       "    <tr>\n",
       "      <th>104</th>\n",
       "      <td>11907</td>\n",
       "      <td>nobody loves me</td>\n",
       "      <td>de</td>\n",
       "      <td>no overview found.</td>\n",
       "      <td>1.015068</td>\n",
       "      <td>1994-11-07</td>\n",
       "      <td>0</td>\n",
       "      <td>0</td>\n",
       "      <td>104.0</td>\n",
       "      <td>released</td>\n",
       "      <td>...</td>\n",
       "      <td>NaN</td>\n",
       "      <td>NaN</td>\n",
       "      <td>drama, comedy, family</td>\n",
       "      <td>NaN</td>\n",
       "      <td>de</td>\n",
       "      <td>de</td>\n",
       "      <td>1994</td>\n",
       "      <td>0.00</td>\n",
       "      <td>november</td>\n",
       "      <td>monday</td>\n",
       "    </tr>\n",
       "  </tbody>\n",
       "</table>\n",
       "<p>5 rows × 22 columns</p>\n",
       "</div>"
      ],
      "text/plain": [
       "        id                          title original_language  \\\n",
       "100  47475                      mr. wrong                en   \n",
       "101   2045                  unforgettable                en   \n",
       "102   9614                  happy gilmore                en   \n",
       "103    688  the bridges of madison county                en   \n",
       "104  11907                nobody loves me                de   \n",
       "\n",
       "                                              overview  popularity  \\\n",
       "100  a single and lonely woman finds the seemingly ...    3.329264   \n",
       "101  ray liotta stars as a medical examiner who has...    2.464425   \n",
       "102  failed hockey player-turned-golf whiz happy gi...    9.592265   \n",
       "103  photographer robert kincaid wanders into the l...    5.951077   \n",
       "104                                 no overview found.    1.015068   \n",
       "\n",
       "    release_date    budget    revenue  runtime    status  ... id_collection  \\\n",
       "100   1996-02-16         0          0     96.0  released  ...           NaN   \n",
       "101   1996-02-23  18000000          0    106.0  released  ...           NaN   \n",
       "102   1996-02-16  12000000   41205099     92.0  released  ...           NaN   \n",
       "103   1995-05-28  24000000  182016617    135.0  released  ...           NaN   \n",
       "104   1994-11-07         0          0    104.0  released  ...           NaN   \n",
       "\n",
       "     collection_name                                     genres  \\\n",
       "100              NaN                            comedy, romance   \n",
       "101              NaN  drama, mystery, science fiction, thriller   \n",
       "102              NaN                                     comedy   \n",
       "103              NaN                             drama, romance   \n",
       "104              NaN                      drama, comedy, family   \n",
       "\n",
       "                                  production_companies spoken_languages  \\\n",
       "100                                touchstone pictures               en   \n",
       "101  metro-goldwyn-mayer (mgm), dino de laurentiis ...               en   \n",
       "102  universal pictures, brillstein-grey entertainm...               en   \n",
       "103  amblin entertainment, malpaso productions, war...               en   \n",
       "104                                                NaN               de   \n",
       "\n",
       "    production_countries release_year return     month     day  \n",
       "100                   us         1996   0.00  february  friday  \n",
       "101                   us         1996   0.00  february  friday  \n",
       "102                   us         1996   3.43  february  friday  \n",
       "103                   us         1995   7.58       may  sunday  \n",
       "104                   de         1994   0.00  november  monday  \n",
       "\n",
       "[5 rows x 22 columns]"
      ]
     },
     "execution_count": 672,
     "metadata": {},
     "output_type": "execute_result"
    }
   ],
   "source": [
    "df[100:105]"
   ]
  },
  {
   "cell_type": "code",
   "execution_count": 674,
   "metadata": {},
   "outputs": [],
   "source": [
    "# Save the DataFrame to a CSV file\n",
    "df.to_csv('my_data.csv', index=False)"
   ]
  },
  {
   "attachments": {},
   "cell_type": "markdown",
   "metadata": {},
   "source": [
    "### FUNCTION 7 - MACHINE LEARNING"
   ]
  },
  {
   "attachments": {},
   "cell_type": "markdown",
   "metadata": {},
   "source": [
    "<span style=\"color:orange\"> ML\n",
    " def recomendacion('titulo'):\n",
    "     '''Ingresas un nombre de pelicula y te recomienda las similares en una lista'''\n",
    "     return {'lista recomendada': respuesta}</span>"
   ]
  },
  {
   "cell_type": "code",
   "execution_count": 684,
   "metadata": {},
   "outputs": [],
   "source": [
    "# Nearest neighbor\n",
    "\n",
    "from sklearn.neighbors import NearestNeighbors\n",
    "from scipy.sparse import csr_matrix\n",
    "from sklearn.feature_extraction.text import CountVectorizer"
   ]
  },
  {
   "cell_type": "code",
   "execution_count": 679,
   "metadata": {},
   "outputs": [],
   "source": [
    "# Load CSV files\n",
    "df = pd.read_csv('./my_data.csv', delimiter=',', encoding='latin1', header=0)"
   ]
  },
  {
   "cell_type": "code",
   "execution_count": 697,
   "metadata": {},
   "outputs": [
    {
     "data": {
      "text/html": [
       "<div>\n",
       "<style scoped>\n",
       "    .dataframe tbody tr th:only-of-type {\n",
       "        vertical-align: middle;\n",
       "    }\n",
       "\n",
       "    .dataframe tbody tr th {\n",
       "        vertical-align: top;\n",
       "    }\n",
       "\n",
       "    .dataframe thead th {\n",
       "        text-align: right;\n",
       "    }\n",
       "</style>\n",
       "<table border=\"1\" class=\"dataframe\">\n",
       "  <thead>\n",
       "    <tr style=\"text-align: right;\">\n",
       "      <th></th>\n",
       "      <th>id</th>\n",
       "      <th>title</th>\n",
       "      <th>original_language</th>\n",
       "      <th>overview</th>\n",
       "      <th>popularity</th>\n",
       "      <th>release_date</th>\n",
       "      <th>budget</th>\n",
       "      <th>revenue</th>\n",
       "      <th>runtime</th>\n",
       "      <th>status</th>\n",
       "      <th>...</th>\n",
       "      <th>id_collection</th>\n",
       "      <th>collection_name</th>\n",
       "      <th>genres</th>\n",
       "      <th>production_companies</th>\n",
       "      <th>spoken_languages</th>\n",
       "      <th>production_countries</th>\n",
       "      <th>return</th>\n",
       "      <th>day</th>\n",
       "      <th>month</th>\n",
       "      <th>release_year</th>\n",
       "    </tr>\n",
       "  </thead>\n",
       "  <tbody>\n",
       "    <tr>\n",
       "      <th>600</th>\n",
       "      <td>275</td>\n",
       "      <td>fargo</td>\n",
       "      <td>en</td>\n",
       "      <td>jerry, a small-town minnesota car salesman is ...</td>\n",
       "      <td>12.614690</td>\n",
       "      <td>1996-04-05</td>\n",
       "      <td>7000000.0</td>\n",
       "      <td>60611975.0</td>\n",
       "      <td>98.0</td>\n",
       "      <td>released</td>\n",
       "      <td>...</td>\n",
       "      <td></td>\n",
       "      <td></td>\n",
       "      <td>crime, drama, thriller</td>\n",
       "      <td>polygram filmed entertainment, working title f...</td>\n",
       "      <td>en</td>\n",
       "      <td>us</td>\n",
       "      <td>8.66</td>\n",
       "      <td>friday</td>\n",
       "      <td>april</td>\n",
       "      <td>1996</td>\n",
       "    </tr>\n",
       "    <tr>\n",
       "      <th>601</th>\n",
       "      <td>25059</td>\n",
       "      <td>homeward bound ii: lost in san francisco</td>\n",
       "      <td>en</td>\n",
       "      <td>your favorite talking animals are back! the fi...</td>\n",
       "      <td>14.657754</td>\n",
       "      <td>1996-03-08</td>\n",
       "      <td></td>\n",
       "      <td>32709423.0</td>\n",
       "      <td>89.0</td>\n",
       "      <td>released</td>\n",
       "      <td>...</td>\n",
       "      <td>43058.0</td>\n",
       "      <td>homeward bound collection</td>\n",
       "      <td>adventure, comedy, drama, family</td>\n",
       "      <td>walt disney pictures</td>\n",
       "      <td></td>\n",
       "      <td>ca, us</td>\n",
       "      <td></td>\n",
       "      <td>friday</td>\n",
       "      <td>march</td>\n",
       "      <td>1996</td>\n",
       "    </tr>\n",
       "    <tr>\n",
       "      <th>602</th>\n",
       "      <td>11827</td>\n",
       "      <td>heavy metal</td>\n",
       "      <td>en</td>\n",
       "      <td>a glowing orb terrorizes a young girl with a c...</td>\n",
       "      <td>7.640073</td>\n",
       "      <td>1981-08-07</td>\n",
       "      <td>9300000.0</td>\n",
       "      <td></td>\n",
       "      <td>90.0</td>\n",
       "      <td>released</td>\n",
       "      <td>...</td>\n",
       "      <td>141086.0</td>\n",
       "      <td>heavy metal collection</td>\n",
       "      <td>animation, science fiction</td>\n",
       "      <td>canadian film development corporation (cfdc)</td>\n",
       "      <td>en, hu</td>\n",
       "      <td>ca</td>\n",
       "      <td></td>\n",
       "      <td>friday</td>\n",
       "      <td>august</td>\n",
       "      <td>1981</td>\n",
       "    </tr>\n",
       "    <tr>\n",
       "      <th>603</th>\n",
       "      <td>8766</td>\n",
       "      <td>hellraiser: bloodline</td>\n",
       "      <td>en</td>\n",
       "      <td>in the 22nd century, a scientist attempts to r...</td>\n",
       "      <td>5.263187</td>\n",
       "      <td>1996-03-08</td>\n",
       "      <td>4000000.0</td>\n",
       "      <td>16675000.0</td>\n",
       "      <td>86.0</td>\n",
       "      <td>released</td>\n",
       "      <td>...</td>\n",
       "      <td>8917.0</td>\n",
       "      <td>hellraiser collection</td>\n",
       "      <td>horror, thriller, science fiction</td>\n",
       "      <td>miramax films, dimension films, trans atlantic...</td>\n",
       "      <td>en</td>\n",
       "      <td>us</td>\n",
       "      <td>4.17</td>\n",
       "      <td>friday</td>\n",
       "      <td>march</td>\n",
       "      <td>1996</td>\n",
       "    </tr>\n",
       "    <tr>\n",
       "      <th>604</th>\n",
       "      <td>23570</td>\n",
       "      <td>the pallbearer</td>\n",
       "      <td>en</td>\n",
       "      <td>aspiring architect tom thompson is told by mys...</td>\n",
       "      <td>8.174116</td>\n",
       "      <td>1996-05-03</td>\n",
       "      <td>8000000.0</td>\n",
       "      <td></td>\n",
       "      <td>97.0</td>\n",
       "      <td>released</td>\n",
       "      <td>...</td>\n",
       "      <td></td>\n",
       "      <td></td>\n",
       "      <td>comedy, romance</td>\n",
       "      <td>miramax films, the chess club</td>\n",
       "      <td>en</td>\n",
       "      <td>us</td>\n",
       "      <td></td>\n",
       "      <td>friday</td>\n",
       "      <td>may</td>\n",
       "      <td>1996</td>\n",
       "    </tr>\n",
       "    <tr>\n",
       "      <th>605</th>\n",
       "      <td>47333</td>\n",
       "      <td>jane eyre</td>\n",
       "      <td>en</td>\n",
       "      <td>jane eyre is an orphan cast out as a young gir...</td>\n",
       "      <td>2.420301</td>\n",
       "      <td>1996-02-09</td>\n",
       "      <td></td>\n",
       "      <td></td>\n",
       "      <td>112.0</td>\n",
       "      <td>released</td>\n",
       "      <td>...</td>\n",
       "      <td></td>\n",
       "      <td></td>\n",
       "      <td>drama, romance</td>\n",
       "      <td>miramax films</td>\n",
       "      <td>en, fr</td>\n",
       "      <td>us</td>\n",
       "      <td></td>\n",
       "      <td>friday</td>\n",
       "      <td>february</td>\n",
       "      <td>1996</td>\n",
       "    </tr>\n",
       "    <tr>\n",
       "      <th>606</th>\n",
       "      <td>54850</td>\n",
       "      <td>loaded</td>\n",
       "      <td>en</td>\n",
       "      <td>a group of young friends convene in the countr...</td>\n",
       "      <td>0.618066</td>\n",
       "      <td>1996-04-12</td>\n",
       "      <td>500000.0</td>\n",
       "      <td></td>\n",
       "      <td>91.0</td>\n",
       "      <td>released</td>\n",
       "      <td>...</td>\n",
       "      <td></td>\n",
       "      <td></td>\n",
       "      <td>drama, mystery, thriller</td>\n",
       "      <td></td>\n",
       "      <td></td>\n",
       "      <td></td>\n",
       "      <td></td>\n",
       "      <td>friday</td>\n",
       "      <td>april</td>\n",
       "      <td>1996</td>\n",
       "    </tr>\n",
       "    <tr>\n",
       "      <th>607</th>\n",
       "      <td>51242</td>\n",
       "      <td>bread and chocolate</td>\n",
       "      <td>it</td>\n",
       "      <td>italian immigrant tries to become a member of ...</td>\n",
       "      <td>1.306628</td>\n",
       "      <td>1974-05-05</td>\n",
       "      <td></td>\n",
       "      <td></td>\n",
       "      <td>100.0</td>\n",
       "      <td>released</td>\n",
       "      <td>...</td>\n",
       "      <td></td>\n",
       "      <td></td>\n",
       "      <td>comedy, foreign</td>\n",
       "      <td></td>\n",
       "      <td>it</td>\n",
       "      <td>it</td>\n",
       "      <td></td>\n",
       "      <td>sunday</td>\n",
       "      <td>may</td>\n",
       "      <td>1974</td>\n",
       "    </tr>\n",
       "    <tr>\n",
       "      <th>608</th>\n",
       "      <td>10112</td>\n",
       "      <td>the aristocats</td>\n",
       "      <td>en</td>\n",
       "      <td>when madame adelaide bonfamille leaves her for...</td>\n",
       "      <td>9.834047</td>\n",
       "      <td>1970-12-23</td>\n",
       "      <td>4000000.0</td>\n",
       "      <td>55675257.0</td>\n",
       "      <td>78.0</td>\n",
       "      <td>released</td>\n",
       "      <td>...</td>\n",
       "      <td></td>\n",
       "      <td></td>\n",
       "      <td>animation, comedy, family, adventure</td>\n",
       "      <td>walt disney productions</td>\n",
       "      <td>en</td>\n",
       "      <td>us</td>\n",
       "      <td>13.92</td>\n",
       "      <td>wednesday</td>\n",
       "      <td>december</td>\n",
       "      <td>1970</td>\n",
       "    </tr>\n",
       "    <tr>\n",
       "      <th>609</th>\n",
       "      <td>4307</td>\n",
       "      <td>the flower of my secret</td>\n",
       "      <td>es</td>\n",
       "      <td>marisa paredes is leocadia (\"leo\") macias, a w...</td>\n",
       "      <td>2.286788</td>\n",
       "      <td>1995-09-22</td>\n",
       "      <td></td>\n",
       "      <td></td>\n",
       "      <td>107.0</td>\n",
       "      <td>released</td>\n",
       "      <td>...</td>\n",
       "      <td></td>\n",
       "      <td></td>\n",
       "      <td>drama, romance</td>\n",
       "      <td>el deseo, ciby 2000</td>\n",
       "      <td>es</td>\n",
       "      <td>es</td>\n",
       "      <td></td>\n",
       "      <td>friday</td>\n",
       "      <td>september</td>\n",
       "      <td>1995</td>\n",
       "    </tr>\n",
       "    <tr>\n",
       "      <th>610</th>\n",
       "      <td>46029</td>\n",
       "      <td>two much</td>\n",
       "      <td>en</td>\n",
       "      <td>a young gallerist is in love with two sisters ...</td>\n",
       "      <td>1.620174</td>\n",
       "      <td>1996-02-14</td>\n",
       "      <td></td>\n",
       "      <td></td>\n",
       "      <td>118.0</td>\n",
       "      <td>released</td>\n",
       "      <td>...</td>\n",
       "      <td></td>\n",
       "      <td></td>\n",
       "      <td>comedy, romance</td>\n",
       "      <td>polygram filmed entertainment, lolafilms, touc...</td>\n",
       "      <td>en</td>\n",
       "      <td>es, us</td>\n",
       "      <td></td>\n",
       "      <td>wednesday</td>\n",
       "      <td>february</td>\n",
       "      <td>1996</td>\n",
       "    </tr>\n",
       "    <tr>\n",
       "      <th>611</th>\n",
       "      <td>32308</td>\n",
       "      <td>ed</td>\n",
       "      <td>en</td>\n",
       "      <td>jack cooper (matt leblanc) could be a world-cl...</td>\n",
       "      <td>5.174212</td>\n",
       "      <td>1996-03-15</td>\n",
       "      <td></td>\n",
       "      <td></td>\n",
       "      <td>94.0</td>\n",
       "      <td>released</td>\n",
       "      <td>...</td>\n",
       "      <td></td>\n",
       "      <td></td>\n",
       "      <td>comedy, family</td>\n",
       "      <td>universal pictures</td>\n",
       "      <td>en</td>\n",
       "      <td>us</td>\n",
       "      <td></td>\n",
       "      <td>friday</td>\n",
       "      <td>march</td>\n",
       "      <td>1996</td>\n",
       "    </tr>\n",
       "    <tr>\n",
       "      <th>612</th>\n",
       "      <td>88893</td>\n",
       "      <td>scream of stone</td>\n",
       "      <td>de</td>\n",
       "      <td>a meeting of two world famous climbers, one an...</td>\n",
       "      <td>0.736081</td>\n",
       "      <td>1991-01-01</td>\n",
       "      <td></td>\n",
       "      <td></td>\n",
       "      <td>105.0</td>\n",
       "      <td>released</td>\n",
       "      <td>...</td>\n",
       "      <td></td>\n",
       "      <td></td>\n",
       "      <td>adventure, drama, documentary</td>\n",
       "      <td></td>\n",
       "      <td>it, en</td>\n",
       "      <td></td>\n",
       "      <td></td>\n",
       "      <td>tuesday</td>\n",
       "      <td>january</td>\n",
       "      <td>1991</td>\n",
       "    </tr>\n",
       "    <tr>\n",
       "      <th>613</th>\n",
       "      <td>52873</td>\n",
       "      <td>my favorite season</td>\n",
       "      <td>fr</td>\n",
       "      <td>old woman berthe leaves her house to live in h...</td>\n",
       "      <td>0.516924</td>\n",
       "      <td>1993-05-14</td>\n",
       "      <td></td>\n",
       "      <td></td>\n",
       "      <td>127.0</td>\n",
       "      <td>released</td>\n",
       "      <td>...</td>\n",
       "      <td></td>\n",
       "      <td></td>\n",
       "      <td>drama</td>\n",
       "      <td>tf1 films productions, les films alain sarde</td>\n",
       "      <td>fr</td>\n",
       "      <td>fr</td>\n",
       "      <td></td>\n",
       "      <td>friday</td>\n",
       "      <td>may</td>\n",
       "      <td>1993</td>\n",
       "    </tr>\n",
       "    <tr>\n",
       "      <th>614</th>\n",
       "      <td>123505</td>\n",
       "      <td>a modern affair</td>\n",
       "      <td>en</td>\n",
       "      <td>a modern affair is an independent feature dire...</td>\n",
       "      <td>0.173207</td>\n",
       "      <td>1996-09-06</td>\n",
       "      <td></td>\n",
       "      <td></td>\n",
       "      <td>90.0</td>\n",
       "      <td>released</td>\n",
       "      <td>...</td>\n",
       "      <td></td>\n",
       "      <td></td>\n",
       "      <td></td>\n",
       "      <td></td>\n",
       "      <td>en</td>\n",
       "      <td></td>\n",
       "      <td></td>\n",
       "      <td>friday</td>\n",
       "      <td>september</td>\n",
       "      <td>1996</td>\n",
       "    </tr>\n",
       "    <tr>\n",
       "      <th>615</th>\n",
       "      <td>340210</td>\n",
       "      <td>condition red</td>\n",
       "      <td>en</td>\n",
       "      <td>prison guard falls in love with inmate. she wa...</td>\n",
       "      <td>0.793932</td>\n",
       "      <td>1995-12-08</td>\n",
       "      <td></td>\n",
       "      <td></td>\n",
       "      <td>83.0</td>\n",
       "      <td>released</td>\n",
       "      <td>...</td>\n",
       "      <td></td>\n",
       "      <td></td>\n",
       "      <td>thriller, action, drama</td>\n",
       "      <td></td>\n",
       "      <td>en</td>\n",
       "      <td>us</td>\n",
       "      <td></td>\n",
       "      <td>friday</td>\n",
       "      <td>december</td>\n",
       "      <td>1995</td>\n",
       "    </tr>\n",
       "    <tr>\n",
       "      <th>616</th>\n",
       "      <td>44281</td>\n",
       "      <td>halfaouine: boy of the terraces</td>\n",
       "      <td>en</td>\n",
       "      <td>twelve-year-old noura dangles uncertainly in t...</td>\n",
       "      <td>1.983301</td>\n",
       "      <td>1990-01-01</td>\n",
       "      <td></td>\n",
       "      <td></td>\n",
       "      <td>98.0</td>\n",
       "      <td>released</td>\n",
       "      <td>...</td>\n",
       "      <td></td>\n",
       "      <td></td>\n",
       "      <td>comedy, drama</td>\n",
       "      <td>cinÃ£Â©tÃ£Â©lÃ£Â©films, france mÃ£Â©dia, les f...</td>\n",
       "      <td>ar</td>\n",
       "      <td>fr, it, tn</td>\n",
       "      <td></td>\n",
       "      <td>monday</td>\n",
       "      <td>january</td>\n",
       "      <td>1990</td>\n",
       "    </tr>\n",
       "    <tr>\n",
       "      <th>617</th>\n",
       "      <td>28121</td>\n",
       "      <td>a thin line between love and hate</td>\n",
       "      <td>en</td>\n",
       "      <td>nightclub manager darnell wright is a perpetua...</td>\n",
       "      <td>2.256747</td>\n",
       "      <td>1996-04-04</td>\n",
       "      <td></td>\n",
       "      <td></td>\n",
       "      <td>108.0</td>\n",
       "      <td>released</td>\n",
       "      <td>...</td>\n",
       "      <td></td>\n",
       "      <td></td>\n",
       "      <td>comedy, thriller, crime, romance</td>\n",
       "      <td>new line cinema, savoy pictures</td>\n",
       "      <td>en</td>\n",
       "      <td>us</td>\n",
       "      <td></td>\n",
       "      <td>thursday</td>\n",
       "      <td>april</td>\n",
       "      <td>1996</td>\n",
       "    </tr>\n",
       "    <tr>\n",
       "      <th>618</th>\n",
       "      <td>12520</td>\n",
       "      <td>the last supper</td>\n",
       "      <td>en</td>\n",
       "      <td>a group of idealistic, but frustrated, liberal...</td>\n",
       "      <td>4.619915</td>\n",
       "      <td>1995-09-08</td>\n",
       "      <td></td>\n",
       "      <td>442965.0</td>\n",
       "      <td>92.0</td>\n",
       "      <td>released</td>\n",
       "      <td>...</td>\n",
       "      <td></td>\n",
       "      <td></td>\n",
       "      <td>comedy, thriller, crime, drama</td>\n",
       "      <td>columbia pictures corporation, the vault, wf/x</td>\n",
       "      <td>en</td>\n",
       "      <td>us</td>\n",
       "      <td></td>\n",
       "      <td>friday</td>\n",
       "      <td>september</td>\n",
       "      <td>1995</td>\n",
       "    </tr>\n",
       "    <tr>\n",
       "      <th>619</th>\n",
       "      <td>1592</td>\n",
       "      <td>primal fear</td>\n",
       "      <td>en</td>\n",
       "      <td>an arrogant, high-powered attorney takes on th...</td>\n",
       "      <td>10.326213</td>\n",
       "      <td>1996-04-03</td>\n",
       "      <td>30000000.0</td>\n",
       "      <td>102616183.0</td>\n",
       "      <td>129.0</td>\n",
       "      <td>released</td>\n",
       "      <td>...</td>\n",
       "      <td></td>\n",
       "      <td></td>\n",
       "      <td>crime, drama, mystery, thriller</td>\n",
       "      <td>paramount pictures</td>\n",
       "      <td>en, es</td>\n",
       "      <td>us</td>\n",
       "      <td>3.42</td>\n",
       "      <td>wednesday</td>\n",
       "      <td>april</td>\n",
       "      <td>1996</td>\n",
       "    </tr>\n",
       "  </tbody>\n",
       "</table>\n",
       "<p>20 rows × 22 columns</p>\n",
       "</div>"
      ],
      "text/plain": [
       "         id                                     title original_language  \\\n",
       "600     275                                     fargo                en   \n",
       "601   25059  homeward bound ii: lost in san francisco                en   \n",
       "602   11827                               heavy metal                en   \n",
       "603    8766                     hellraiser: bloodline                en   \n",
       "604   23570                            the pallbearer                en   \n",
       "605   47333                                 jane eyre                en   \n",
       "606   54850                                    loaded                en   \n",
       "607   51242                       bread and chocolate                it   \n",
       "608   10112                            the aristocats                en   \n",
       "609    4307                   the flower of my secret                es   \n",
       "610   46029                                  two much                en   \n",
       "611   32308                                        ed                en   \n",
       "612   88893                           scream of stone                de   \n",
       "613   52873                        my favorite season                fr   \n",
       "614  123505                           a modern affair                en   \n",
       "615  340210                             condition red                en   \n",
       "616   44281           halfaouine: boy of the terraces                en   \n",
       "617   28121         a thin line between love and hate                en   \n",
       "618   12520                           the last supper                en   \n",
       "619    1592                               primal fear                en   \n",
       "\n",
       "                                              overview  popularity  \\\n",
       "600  jerry, a small-town minnesota car salesman is ...   12.614690   \n",
       "601  your favorite talking animals are back! the fi...   14.657754   \n",
       "602  a glowing orb terrorizes a young girl with a c...    7.640073   \n",
       "603  in the 22nd century, a scientist attempts to r...    5.263187   \n",
       "604  aspiring architect tom thompson is told by mys...    8.174116   \n",
       "605  jane eyre is an orphan cast out as a young gir...    2.420301   \n",
       "606  a group of young friends convene in the countr...    0.618066   \n",
       "607  italian immigrant tries to become a member of ...    1.306628   \n",
       "608  when madame adelaide bonfamille leaves her for...    9.834047   \n",
       "609  marisa paredes is leocadia (\"leo\") macias, a w...    2.286788   \n",
       "610  a young gallerist is in love with two sisters ...    1.620174   \n",
       "611  jack cooper (matt leblanc) could be a world-cl...    5.174212   \n",
       "612  a meeting of two world famous climbers, one an...    0.736081   \n",
       "613  old woman berthe leaves her house to live in h...    0.516924   \n",
       "614  a modern affair is an independent feature dire...    0.173207   \n",
       "615  prison guard falls in love with inmate. she wa...    0.793932   \n",
       "616  twelve-year-old noura dangles uncertainly in t...    1.983301   \n",
       "617  nightclub manager darnell wright is a perpetua...    2.256747   \n",
       "618  a group of idealistic, but frustrated, liberal...    4.619915   \n",
       "619  an arrogant, high-powered attorney takes on th...   10.326213   \n",
       "\n",
       "    release_date      budget      revenue runtime    status  ...  \\\n",
       "600   1996-04-05   7000000.0   60611975.0    98.0  released  ...   \n",
       "601   1996-03-08               32709423.0    89.0  released  ...   \n",
       "602   1981-08-07   9300000.0                 90.0  released  ...   \n",
       "603   1996-03-08   4000000.0   16675000.0    86.0  released  ...   \n",
       "604   1996-05-03   8000000.0                 97.0  released  ...   \n",
       "605   1996-02-09                            112.0  released  ...   \n",
       "606   1996-04-12    500000.0                 91.0  released  ...   \n",
       "607   1974-05-05                            100.0  released  ...   \n",
       "608   1970-12-23   4000000.0   55675257.0    78.0  released  ...   \n",
       "609   1995-09-22                            107.0  released  ...   \n",
       "610   1996-02-14                            118.0  released  ...   \n",
       "611   1996-03-15                             94.0  released  ...   \n",
       "612   1991-01-01                            105.0  released  ...   \n",
       "613   1993-05-14                            127.0  released  ...   \n",
       "614   1996-09-06                             90.0  released  ...   \n",
       "615   1995-12-08                             83.0  released  ...   \n",
       "616   1990-01-01                             98.0  released  ...   \n",
       "617   1996-04-04                            108.0  released  ...   \n",
       "618   1995-09-08                 442965.0    92.0  released  ...   \n",
       "619   1996-04-03  30000000.0  102616183.0   129.0  released  ...   \n",
       "\n",
       "    id_collection            collection_name  \\\n",
       "600                                            \n",
       "601       43058.0  homeward bound collection   \n",
       "602      141086.0     heavy metal collection   \n",
       "603        8917.0      hellraiser collection   \n",
       "604                                            \n",
       "605                                            \n",
       "606                                            \n",
       "607                                            \n",
       "608                                            \n",
       "609                                            \n",
       "610                                            \n",
       "611                                            \n",
       "612                                            \n",
       "613                                            \n",
       "614                                            \n",
       "615                                            \n",
       "616                                            \n",
       "617                                            \n",
       "618                                            \n",
       "619                                            \n",
       "\n",
       "                                   genres  \\\n",
       "600                crime, drama, thriller   \n",
       "601      adventure, comedy, drama, family   \n",
       "602            animation, science fiction   \n",
       "603     horror, thriller, science fiction   \n",
       "604                       comedy, romance   \n",
       "605                        drama, romance   \n",
       "606              drama, mystery, thriller   \n",
       "607                       comedy, foreign   \n",
       "608  animation, comedy, family, adventure   \n",
       "609                        drama, romance   \n",
       "610                       comedy, romance   \n",
       "611                        comedy, family   \n",
       "612         adventure, drama, documentary   \n",
       "613                                 drama   \n",
       "614                                         \n",
       "615               thriller, action, drama   \n",
       "616                         comedy, drama   \n",
       "617      comedy, thriller, crime, romance   \n",
       "618        comedy, thriller, crime, drama   \n",
       "619       crime, drama, mystery, thriller   \n",
       "\n",
       "                                  production_companies spoken_languages  \\\n",
       "600  polygram filmed entertainment, working title f...               en   \n",
       "601                               walt disney pictures                    \n",
       "602       canadian film development corporation (cfdc)           en, hu   \n",
       "603  miramax films, dimension films, trans atlantic...               en   \n",
       "604                      miramax films, the chess club               en   \n",
       "605                                      miramax films           en, fr   \n",
       "606                                                                       \n",
       "607                                                                  it   \n",
       "608                            walt disney productions               en   \n",
       "609                                el deseo, ciby 2000               es   \n",
       "610  polygram filmed entertainment, lolafilms, touc...               en   \n",
       "611                                 universal pictures               en   \n",
       "612                                                              it, en   \n",
       "613       tf1 films productions, les films alain sarde               fr   \n",
       "614                                                                  en   \n",
       "615                                                                  en   \n",
       "616  cinÃ£Â©tÃ£Â©lÃ£Â©films, france mÃ£Â©dia, les f...               ar   \n",
       "617                    new line cinema, savoy pictures               en   \n",
       "618     columbia pictures corporation, the vault, wf/x               en   \n",
       "619                                 paramount pictures           en, es   \n",
       "\n",
       "    production_countries return        day      month release_year  \n",
       "600                   us   8.66     friday      april         1996  \n",
       "601               ca, us            friday      march         1996  \n",
       "602                   ca            friday     august         1981  \n",
       "603                   us   4.17     friday      march         1996  \n",
       "604                   us            friday        may         1996  \n",
       "605                   us            friday   february         1996  \n",
       "606                                 friday      april         1996  \n",
       "607                   it            sunday        may         1974  \n",
       "608                   us  13.92  wednesday   december         1970  \n",
       "609                   es            friday  september         1995  \n",
       "610               es, us         wednesday   february         1996  \n",
       "611                   us            friday      march         1996  \n",
       "612                                tuesday    january         1991  \n",
       "613                   fr            friday        may         1993  \n",
       "614                                 friday  september         1996  \n",
       "615                   us            friday   december         1995  \n",
       "616           fr, it, tn            monday    january         1990  \n",
       "617                   us          thursday      april         1996  \n",
       "618                   us            friday  september         1995  \n",
       "619                   us   3.42  wednesday      april         1996  \n",
       "\n",
       "[20 rows x 22 columns]"
      ]
     },
     "execution_count": 697,
     "metadata": {},
     "output_type": "execute_result"
    }
   ],
   "source": [
    "df[600:620]"
   ]
  },
  {
   "cell_type": "code",
   "execution_count": 683,
   "metadata": {},
   "outputs": [
    {
     "data": {
      "text/html": [
       "<div>\n",
       "<style scoped>\n",
       "    .dataframe tbody tr th:only-of-type {\n",
       "        vertical-align: middle;\n",
       "    }\n",
       "\n",
       "    .dataframe tbody tr th {\n",
       "        vertical-align: top;\n",
       "    }\n",
       "\n",
       "    .dataframe thead th {\n",
       "        text-align: right;\n",
       "    }\n",
       "</style>\n",
       "<table border=\"1\" class=\"dataframe\">\n",
       "  <thead>\n",
       "    <tr style=\"text-align: right;\">\n",
       "      <th></th>\n",
       "      <th>tagline</th>\n",
       "      <th>vote_average</th>\n",
       "    </tr>\n",
       "  </thead>\n",
       "  <tbody>\n",
       "    <tr>\n",
       "      <th>0</th>\n",
       "      <td>NaN</td>\n",
       "      <td>7.7</td>\n",
       "    </tr>\n",
       "    <tr>\n",
       "      <th>1</th>\n",
       "      <td>roll the dice and unleash the excitement!</td>\n",
       "      <td>6.9</td>\n",
       "    </tr>\n",
       "    <tr>\n",
       "      <th>2</th>\n",
       "      <td>still yelling. still fighting. still ready for...</td>\n",
       "      <td>6.5</td>\n",
       "    </tr>\n",
       "    <tr>\n",
       "      <th>3</th>\n",
       "      <td>friends are the people who let you be yourself...</td>\n",
       "      <td>6.1</td>\n",
       "    </tr>\n",
       "    <tr>\n",
       "      <th>4</th>\n",
       "      <td>just when his world is back to normal... he's ...</td>\n",
       "      <td>5.7</td>\n",
       "    </tr>\n",
       "    <tr>\n",
       "      <th>...</th>\n",
       "      <td>...</td>\n",
       "      <td>...</td>\n",
       "    </tr>\n",
       "    <tr>\n",
       "      <th>45371</th>\n",
       "      <td>NaN</td>\n",
       "      <td>5.7</td>\n",
       "    </tr>\n",
       "    <tr>\n",
       "      <th>45372</th>\n",
       "      <td>NaN</td>\n",
       "      <td>9.0</td>\n",
       "    </tr>\n",
       "    <tr>\n",
       "      <th>45373</th>\n",
       "      <td>a deadly game of wits.</td>\n",
       "      <td>3.8</td>\n",
       "    </tr>\n",
       "    <tr>\n",
       "      <th>45374</th>\n",
       "      <td>NaN</td>\n",
       "      <td>NaN</td>\n",
       "    </tr>\n",
       "    <tr>\n",
       "      <th>45375</th>\n",
       "      <td>NaN</td>\n",
       "      <td>NaN</td>\n",
       "    </tr>\n",
       "  </tbody>\n",
       "</table>\n",
       "<p>45376 rows × 2 columns</p>\n",
       "</div>"
      ],
      "text/plain": [
       "                                                 tagline  vote_average\n",
       "0                                                    NaN           7.7\n",
       "1              roll the dice and unleash the excitement!           6.9\n",
       "2      still yelling. still fighting. still ready for...           6.5\n",
       "3      friends are the people who let you be yourself...           6.1\n",
       "4      just when his world is back to normal... he's ...           5.7\n",
       "...                                                  ...           ...\n",
       "45371                                                NaN           5.7\n",
       "45372                                                NaN           9.0\n",
       "45373                             a deadly game of wits.           3.8\n",
       "45374                                                NaN           NaN\n",
       "45375                                                NaN           NaN\n",
       "\n",
       "[45376 rows x 2 columns]"
      ]
     },
     "execution_count": 683,
     "metadata": {},
     "output_type": "execute_result"
    }
   ],
   "source": [
    "df[['tagline','vote_average']]"
   ]
  },
  {
   "cell_type": "code",
   "execution_count": 707,
   "metadata": {},
   "outputs": [],
   "source": [
    "def recomendacion(titulo: str):\n",
    "\n",
    "    # Replace NaN values with empty string\n",
    "    df.fillna('', inplace=True)\n",
    "\n",
    "    # Convert column 'vote_average' to string\n",
    "    df['vote_average'] = df['vote_average'].astype(str)\n",
    "\n",
    "    # Create a feature matrix using a sparse matrix\n",
    "    text = df['title'] + ' ' + df['vote_average'] + ' ' + df['genres']\n",
    "    vectorizer = CountVectorizer(min_df=2)\n",
    "    X = vectorizer.fit_transform(text)\n",
    "    sparse_X = csr_matrix(X)\n",
    "\n",
    "    # Fit a nearest neighbor model on the feature matrix\n",
    "    nn = NearestNeighbors(n_neighbors=6, algorithm='brute', metric='cosine')\n",
    "    nn.fit(sparse_X)\n",
    "\n",
    "    # Define a function to recommend similar movies\n",
    "    def recommend(movie, nn_model, df, k=5):\n",
    "        idx = df[df['title'] == movie].index[0]\n",
    "        distances, indices = nn_model.kneighbors(X[idx], n_neighbors=k+1)\n",
    "        titles = df.iloc[indices[0], :]['title']\n",
    "        return list(titles.iloc[1:])\n",
    "\n",
    "    # Recomend movies\n",
    "    answer = recommend(titulo, nn, df)\n",
    "\n",
    "    return {'lista recomendada': answer}"
   ]
  },
  {
   "cell_type": "code",
   "execution_count": 708,
   "metadata": {},
   "outputs": [
    {
     "data": {
      "text/plain": [
       "{'lista recomendada': ['9',\n",
       "  'mutafukaz',\n",
       "  'cencoroll',\n",
       "  'heavy metal 2000',\n",
       "  'technotise: edit & i']}"
      ]
     },
     "execution_count": 708,
     "metadata": {},
     "output_type": "execute_result"
    }
   ],
   "source": [
    "recomendacion('heavy metal')"
   ]
  }
 ],
 "metadata": {
  "kernelspec": {
   "display_name": "Python 3",
   "language": "python",
   "name": "python3"
  },
  "language_info": {
   "codemirror_mode": {
    "name": "ipython",
    "version": 3
   },
   "file_extension": ".py",
   "mimetype": "text/x-python",
   "name": "python",
   "nbconvert_exporter": "python",
   "pygments_lexer": "ipython3",
   "version": "3.11.2"
  },
  "orig_nbformat": 4
 },
 "nbformat": 4,
 "nbformat_minor": 2
}
